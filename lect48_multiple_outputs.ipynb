{
 "cells": [
  {
   "cell_type": "markdown",
   "id": "53a3de44-6591-4f7f-941e-e2801fdc186b",
   "metadata": {},
   "source": [
    "# Import Libraries"
   ]
  },
  {
   "cell_type": "code",
   "execution_count": null,
   "id": "956c2343-1a4c-4bc9-a541-bc89d5895e76",
   "metadata": {},
   "outputs": [],
   "source": [
    "import numpy as np\n",
    "import pandas as pd\n",
    "import plotly.graph_objs as go\n",
    "import plotly.offline as pyo\n",
    "from jupyter_dash import JupyterDash\n",
    "import dash\n",
    "from dash import dcc\n",
    "from dash import html\n",
    "from dash.dependencies import Input, Output\n",
    "import base64"
   ]
  },
  {
   "cell_type": "markdown",
   "id": "e67ab52d-99f0-45d8-8b33-b9c146783024",
   "metadata": {},
   "source": [
    "# Import Data"
   ]
  },
  {
   "cell_type": "code",
   "execution_count": null,
   "id": "0a35d2c4-27ae-47c8-baea-0015a51317ef",
   "metadata": {},
   "outputs": [],
   "source": [
    "df = pd.read_csv(\"./data/wheels.csv\")\n",
    "df.head()"
   ]
  },
  {
   "cell_type": "markdown",
   "id": "9e58aa59-5afd-4dc5-ae98-8f5b3c0e01ce",
   "metadata": {},
   "source": [
    "# Create App"
   ]
  },
  {
   "cell_type": "code",
   "execution_count": null,
   "id": "8a7710b4-4ffc-40bb-80d8-ee3c84018876",
   "metadata": {},
   "outputs": [],
   "source": [
    "app = JupyterDash(__name__)"
   ]
  },
  {
   "cell_type": "markdown",
   "id": "42415762-1344-47b8-8696-a12a6dbe0aa2",
   "metadata": {},
   "source": [
    "# Modify App Layout\n",
    "\n",
    "Comment out only one of the cells in this section to run the Application with the selected App layout.\n",
    "\n",
    "Highlight the contents of the cell and use the shortcut key ```Ctrl``` + ```/``` to comment/uncomment all."
   ]
  },
  {
   "cell_type": "code",
   "execution_count": null,
   "id": "d6eb5d7d-8189-4722-aa18-72dc535dd168",
   "metadata": {},
   "outputs": [],
   "source": [
    "# app.layout = html.Div([\n",
    "#                         dcc.RadioItems(id=\"wheels\", options=[{\"label\": str(i), \"value\": i} for i in df[\"wheels\"].unique()], value=1),\n",
    "#                         html.Div(id=\"wheels-output\"),\n",
    "#                         html.Hr(),\n",
    "#                         dcc.RadioItems(id=\"colors\", options=[{\"label\": i, \"value\": i} for i in df[\"color\"].unique()], value=\"red\"),\n",
    "#                         html.Div(id=\"colors-output\")\n",
    "#                       ], style={\"fontFamily\": \"helvetica\", \"fontSize\": 18}\n",
    "#                      )\n",
    "\n",
    "# @app.callback(Output(\"wheels-output\", \"children\"),\n",
    "#              Input(\"wheels\", \"value\"))\n",
    "# def callback_a(wheels_value):\n",
    "#     return f\"You chose {wheels_value}\"\n",
    "\n",
    "# @app.callback(Output(\"colors-output\", \"children\"),\n",
    "#              Input(\"colors\", \"value\"))\n",
    "# def callback_b(colors_value):\n",
    "#     return f\"You chose {colors_value}\""
   ]
  },
  {
   "cell_type": "code",
   "execution_count": null,
   "id": "8337838c-2b80-42d8-9259-2e8d9fb8c6bf",
   "metadata": {},
   "outputs": [],
   "source": [
    "app.layout = html.Div([\n",
    "                        dcc.RadioItems(id=\"wheels\", options=[{\"label\": str(i), \"value\": i} for i in df[\"wheels\"].unique()], value=1),\n",
    "                        html.Div(id=\"wheels-output\"),\n",
    "                        html.Hr(),\n",
    "                        dcc.RadioItems(id=\"colors\", options=[{\"label\": i, \"value\": i} for i in df[\"color\"].unique()], value=\"red\"),\n",
    "                        html.Div(id=\"colors-output\"),\n",
    "                        html.Hr(),\n",
    "                        html.Div(children=\"The image file path is:\"),\n",
    "                        html.Div(id=\"filepath-output\"),\n",
    "                        html.Hr(),\n",
    "                        html.Img(id=\"display-image\", height=300)\n",
    "                      ], style={\"fontFamily\": \"helvetica\", \"fontSize\": 18}\n",
    "                     )\n",
    "\n",
    "def b64_image(image_filename):\n",
    "    with open(image_filename, \"rb\") as f:\n",
    "        image = f.read()\n",
    "    return \"data:image/png;base64,\" + base64.b64encode(image).decode(\"utf-8\")\n",
    "\n",
    "@app.callback(Output(\"wheels-output\", \"children\"),\n",
    "             Input(\"wheels\", \"value\"))\n",
    "def callback_wheel(wheels_value):\n",
    "    return f\"You chose {wheels_value}\"\n",
    "\n",
    "\n",
    "@app.callback(Output(\"colors-output\", \"children\"),\n",
    "             Input(\"colors\", \"value\"))\n",
    "def callback_color(colors_value):\n",
    "    return f\"You chose {colors_value}\"\n",
    "\n",
    "\n",
    "@app.callback(Output(\"filepath-output\", \"children\"),\n",
    "              [Input(\"wheels\", \"value\"), Input(\"colors\", \"value\")]\n",
    "             )\n",
    "def callback_filepath(wheel, color):\n",
    "    path = r\"./data/images/\"\n",
    "    return path+df[(df[\"wheels\"] == wheel) & (df[\"color\"] == color)][\"image\"].values[0]\n",
    "\n",
    "\n",
    "@app.callback(Output(\"display-image\", \"src\"),\n",
    "              [Input(\"wheels\", \"value\"), Input(\"colors\", \"value\")]\n",
    "             )\n",
    "def callback_image(wheel, color):\n",
    "    path = r\"./data/images/\"\n",
    "    img_path = path+df[(df[\"wheels\"] == wheel) & (df[\"color\"] == color)][\"image\"].values[0]\n",
    "    return b64_image(img_path)\n",
    "\n"
   ]
  },
  {
   "cell_type": "markdown",
   "id": "13d7db77-9775-428a-8227-53063da61c0a",
   "metadata": {},
   "source": [
    "# Run App \n",
    "\n",
    "## In Cell"
   ]
  },
  {
   "cell_type": "code",
   "execution_count": null,
   "id": "e217df7d-51fd-405f-9ae9-ce42f8396430",
   "metadata": {},
   "outputs": [],
   "source": [
    "app.run_server(mode=\"inline\", height=650, host='127.0.0.1', port='8050')"
   ]
  },
  {
   "cell_type": "markdown",
   "id": "0bfad716-3517-44ef-8679-eaf5077ef296",
   "metadata": {},
   "source": [
    "Go to Restart Kernel and Clear All Outputs to End the Server."
   ]
  },
  {
   "cell_type": "markdown",
   "id": "92d36c85-f897-4b00-b8f9-ee7f0ecfce3e",
   "metadata": {},
   "source": [
    "## In a New Tab (Inside JupyterLab)"
   ]
  },
  {
   "cell_type": "code",
   "execution_count": null,
   "id": "b2c326b4-b53e-42fc-856f-6e49f8cc527c",
   "metadata": {},
   "outputs": [],
   "source": [
    "# app.run_server(mode=\"jupyterlab\")"
   ]
  },
  {
   "cell_type": "markdown",
   "id": "7796f90a-dbd7-45aa-9c4c-14b3d8ea13d7",
   "metadata": {},
   "source": [
    "Go to Restart Kernel and Clear All Outputs to End the Server."
   ]
  },
  {
   "cell_type": "markdown",
   "id": "baa1c96f-9beb-45ef-82bb-59af4f2fbf5b",
   "metadata": {},
   "source": [
    "## In a New Tab"
   ]
  },
  {
   "cell_type": "code",
   "execution_count": null,
   "id": "fd69ef0d-6c4d-4167-bd55-5e29195ec08f",
   "metadata": {},
   "outputs": [],
   "source": [
    "# app.run_server()"
   ]
  },
  {
   "cell_type": "markdown",
   "id": "0014ebe6-d61f-4897-8fd0-837f8de8c835",
   "metadata": {},
   "source": [
    "Go to Restart Kernel and Clear All Outputs to End the Server."
   ]
  },
  {
   "cell_type": "code",
   "execution_count": null,
   "id": "722586b7-4e71-4c5a-a104-680c44504581",
   "metadata": {},
   "outputs": [],
   "source": []
  }
 ],
 "metadata": {
  "kernelspec": {
   "display_name": "Python 3 (ipykernel)",
   "language": "python",
   "name": "python3"
  },
  "language_info": {
   "codemirror_mode": {
    "name": "ipython",
    "version": 3
   },
   "file_extension": ".py",
   "mimetype": "text/x-python",
   "name": "python",
   "nbconvert_exporter": "python",
   "pygments_lexer": "ipython3",
   "version": "3.9.13"
  }
 },
 "nbformat": 4,
 "nbformat_minor": 5
}
