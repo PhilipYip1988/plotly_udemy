{
 "cells": [
  {
   "cell_type": "markdown",
   "id": "675a07b7-9406-433c-8b26-7cc9a3c038d0",
   "metadata": {},
   "source": [
    "# Install Libraries"
   ]
  },
  {
   "cell_type": "code",
   "execution_count": null,
   "id": "071d0656-7647-4126-8db4-2c6b47cf0286",
   "metadata": {},
   "outputs": [],
   "source": [
    "# conda install -c conda-forge dash\n",
    "# conda install -c conda-forge jupyter-dash"
   ]
  },
  {
   "cell_type": "markdown",
   "id": "53a3de44-6591-4f7f-941e-e2801fdc186b",
   "metadata": {},
   "source": [
    "# Import Libraries"
   ]
  },
  {
   "cell_type": "code",
   "execution_count": null,
   "id": "956c2343-1a4c-4bc9-a541-bc89d5895e76",
   "metadata": {},
   "outputs": [],
   "source": [
    "import numpy as np\n",
    "import pandas as pd\n",
    "import plotly.graph_objs as go\n",
    "import plotly.offline as pyo\n",
    "from jupyter_dash import JupyterDash\n",
    "import dash\n",
    "from dash import dcc\n",
    "from dash import html"
   ]
  },
  {
   "cell_type": "markdown",
   "id": "9e58aa59-5afd-4dc5-ae98-8f5b3c0e01ce",
   "metadata": {},
   "source": [
    "# Create App"
   ]
  },
  {
   "cell_type": "code",
   "execution_count": null,
   "id": "8a7710b4-4ffc-40bb-80d8-ee3c84018876",
   "metadata": {},
   "outputs": [],
   "source": [
    "app = JupyterDash(__name__)"
   ]
  },
  {
   "cell_type": "markdown",
   "id": "de567414-478d-4c33-b14c-5a0509d4e551",
   "metadata": {},
   "source": [
    "# Example Plotly Graph"
   ]
  },
  {
   "cell_type": "markdown",
   "id": "de0cd274-2609-482e-84f5-f89f8af25ddc",
   "metadata": {},
   "source": [
    "Let's create a very simple plotly figure:"
   ]
  },
  {
   "cell_type": "code",
   "execution_count": null,
   "id": "0b7de358-0da1-42ed-8ce6-7a28eb766442",
   "metadata": {},
   "outputs": [],
   "source": [
    "trace0 = go.Bar(x=[1, 2, 3], y=[4, 1, 2], type=\"bar\", name=\"SF\")\n",
    "trace1 = go.Bar(x=[1, 2, 3], y=[2, 4, 5], type=\"bar\", name=\"NYC\")     \n",
    "data = [trace0, trace1]\n",
    "layout = go.Layout(title=\"bar graph\", xaxis=dict(title=\"x\"), yaxis=dict(title=\"y\"))\n",
    "fig = go.Figure(data=data, layout=layout)\n",
    "pyo.iplot(fig)"
   ]
  },
  {
   "cell_type": "markdown",
   "id": "bea731c2-400c-4867-886b-0e2e8127f7c6",
   "metadata": {},
   "source": [
    "# App Layout"
   ]
  },
  {
   "cell_type": "markdown",
   "id": "7da857bc-abe9-4028-9ffb-5f18936b7cb1",
   "metadata": {},
   "source": [
    "Instead of using iplot to plot the figure as a notebooks cell output, we will create a simple dashboard that contains a HTML heading and contains the figure.\n",
    "\n",
    "The dash core components dcc class Graph can be used to insert a plotly figure object. Each graph should be supplied a graph id and a figure."
   ]
  },
  {
   "cell_type": "code",
   "execution_count": null,
   "id": "d6eb5d7d-8189-4722-aa18-72dc535dd168",
   "metadata": {},
   "outputs": [],
   "source": [
    "app.layout = html.Div(children=[\n",
    "                                html.H1(\"Hello Dash!\"),\n",
    "                                html.Div(\"Dash: Web Dashboards with Python\"),\n",
    "                                dcc.Graph(id=\"example\", figure=fig)\n",
    "                                ]\n",
    "                     )"
   ]
  },
  {
   "cell_type": "markdown",
   "id": "13d7db77-9775-428a-8227-53063da61c0a",
   "metadata": {},
   "source": [
    "# Run App\n",
    "\n",
    "## In Cell"
   ]
  },
  {
   "cell_type": "code",
   "execution_count": null,
   "id": "e217df7d-51fd-405f-9ae9-ce42f8396430",
   "metadata": {},
   "outputs": [],
   "source": [
    "app.run_server(mode=\"inline\", height=650, host='127.0.0.1', port='8050')"
   ]
  },
  {
   "cell_type": "markdown",
   "id": "26e9167f-a2fc-47d4-96d5-a907198474c8",
   "metadata": {},
   "source": [
    "Go to Restart Kernel and Clear All Outputs to End the Server."
   ]
  },
  {
   "cell_type": "markdown",
   "id": "0859e924-1f2a-47c8-b67f-43e4a31fc1d4",
   "metadata": {},
   "source": [
    "## In a New Tab (Inside JupyterLab)"
   ]
  },
  {
   "cell_type": "code",
   "execution_count": null,
   "id": "315f5e52-4e97-4bd5-b773-652aa2aea2e4",
   "metadata": {},
   "outputs": [],
   "source": [
    "# app.run_server(mode=\"jupyterlab\")"
   ]
  },
  {
   "cell_type": "markdown",
   "id": "fa795088-0e43-4cdf-82fe-d8321b247aef",
   "metadata": {},
   "source": [
    "Go to Restart Kernel and Clear All Outputs to End the Server."
   ]
  },
  {
   "cell_type": "markdown",
   "id": "e3e57060-c1ab-46a4-9818-c9dec1a00b40",
   "metadata": {},
   "source": [
    "## In a New Tab"
   ]
  },
  {
   "cell_type": "code",
   "execution_count": null,
   "id": "b7a02dc6-b2b5-4488-8fb7-64e8d3c21cf8",
   "metadata": {},
   "outputs": [],
   "source": [
    "# app.run_server()"
   ]
  },
  {
   "cell_type": "markdown",
   "id": "4b6214d1-90a2-465a-aa85-0baabcb9b65b",
   "metadata": {},
   "source": [
    "Go to Restart Kernel and Clear All Outputs to End the Server."
   ]
  }
 ],
 "metadata": {
  "kernelspec": {
   "display_name": "Python 3 (ipykernel)",
   "language": "python",
   "name": "python3"
  },
  "language_info": {
   "codemirror_mode": {
    "name": "ipython",
    "version": 3
   },
   "file_extension": ".py",
   "mimetype": "text/x-python",
   "name": "python",
   "nbconvert_exporter": "python",
   "pygments_lexer": "ipython3",
   "version": "3.9.13"
  }
 },
 "nbformat": 4,
 "nbformat_minor": 5
}
