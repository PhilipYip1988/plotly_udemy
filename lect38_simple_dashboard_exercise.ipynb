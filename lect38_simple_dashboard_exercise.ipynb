{
 "cells": [
  {
   "cell_type": "markdown",
   "id": "7160104f-5004-41c6-8b15-a42a1fba1e21",
   "metadata": {},
   "source": [
    "# Import Data Science Libraries"
   ]
  },
  {
   "cell_type": "code",
   "execution_count": null,
   "id": "628fdb2a-9ff8-44e8-8867-faa775b77554",
   "metadata": {},
   "outputs": [],
   "source": [
    "import numpy as np\n",
    "import pandas as pd\n",
    "import plotly.graph_objs as go\n",
    "import plotly.offline as pyo\n",
    "from jupyter_dash import JupyterDash\n",
    "import dash\n",
    "from dash import dcc\n",
    "from dash import html"
   ]
  },
  {
   "cell_type": "markdown",
   "id": "1653cf1c-e8b2-442a-9d8b-49207a601e2f",
   "metadata": {},
   "source": [
    "# Import Data"
   ]
  },
  {
   "cell_type": "code",
   "execution_count": null,
   "id": "43ad8c0a-a057-4353-b056-abdea14cc329",
   "metadata": {},
   "outputs": [],
   "source": [
    "df = pd.read_csv(\"./data/OldFaithful.csv\")\n",
    "df.head()"
   ]
  },
  {
   "cell_type": "markdown",
   "id": "ea35caba-1ff3-481e-b4f6-879129164f1d",
   "metadata": {},
   "source": [
    "# Create a Plot"
   ]
  },
  {
   "cell_type": "code",
   "execution_count": null,
   "id": "5bce8bc4-026d-454c-bf8f-50359e8faa9c",
   "metadata": {},
   "outputs": [],
   "source": [
    "trace0 = go.Scatter(x=df[\"X\"], y=df[\"Y\"], mode=\"markers\", marker=dict(size=12, \n",
    "                                                                      color=\"rgb(51, 204, 153)\", \n",
    "                                                                      symbol=\"pentagon\",\n",
    "                                                                      line=dict(width=2)\n",
    "                                                                     )\n",
    "                   )\n",
    "data = [trace0]\n",
    "layout = go.Layout(\n",
    "                    title=\"Old Faithful Eruption Intervals vs Durations\",\n",
    "                    xaxis=dict(title=\"Duration of Eruption (minutes)\"),\n",
    "                    yaxis=dict(title=\"Interval to Next Eruption (minutes)\")\n",
    "                  )\n",
    "fig = go.Figure(data,layout)\n",
    "pyo.iplot(fig)"
   ]
  },
  {
   "cell_type": "markdown",
   "id": "bc6e71b6-6717-407e-aefd-bcd75573539f",
   "metadata": {},
   "source": [
    "# Create a Dashboard with the Plot"
   ]
  },
  {
   "cell_type": "code",
   "execution_count": null,
   "id": "33869216-9cc7-4010-a60a-beac400305c4",
   "metadata": {},
   "outputs": [],
   "source": [
    "app = JupyterDash(__name__)"
   ]
  },
  {
   "cell_type": "code",
   "execution_count": 2,
   "id": "9e5f8d34-7495-4088-928f-f83779d692db",
   "metadata": {},
   "outputs": [
    {
     "ename": "NameError",
     "evalue": "name 'html' is not defined",
     "output_type": "error",
     "traceback": [
      "\u001b[1;31m---------------------------------------------------------------------------\u001b[0m",
      "\u001b[1;31mNameError\u001b[0m                                 Traceback (most recent call last)",
      "\u001b[1;32m~\\AppData\\Local\\Temp\\ipykernel_320\\3236504371.py\u001b[0m in \u001b[0;36m<cell line: 1>\u001b[1;34m()\u001b[0m\n\u001b[1;32m----> 1\u001b[1;33m app.layout = html.Div(children=[\n\u001b[0m\u001b[0;32m      2\u001b[0m                                 \u001b[0mhtml\u001b[0m\u001b[1;33m.\u001b[0m\u001b[0mH1\u001b[0m\u001b[1;33m(\u001b[0m\u001b[1;34m\"Dashboard Example\"\u001b[0m\u001b[1;33m)\u001b[0m\u001b[1;33m,\u001b[0m\u001b[1;33m\u001b[0m\u001b[1;33m\u001b[0m\u001b[0m\n\u001b[0;32m      3\u001b[0m                                 \u001b[0mhtml\u001b[0m\u001b[1;33m.\u001b[0m\u001b[0mDiv\u001b[0m\u001b[1;33m(\u001b[0m\u001b[1;34m\"Dash: Web Dashboards with Python\"\u001b[0m\u001b[1;33m)\u001b[0m\u001b[1;33m,\u001b[0m\u001b[1;33m\u001b[0m\u001b[1;33m\u001b[0m\u001b[0m\n\u001b[0;32m      4\u001b[0m                                 dcc.Graph(\n\u001b[0;32m      5\u001b[0m                                             \u001b[0mid\u001b[0m\u001b[1;33m=\u001b[0m\u001b[1;34m\"old_faithful\"\u001b[0m\u001b[1;33m,\u001b[0m\u001b[1;33m\u001b[0m\u001b[1;33m\u001b[0m\u001b[0m\n",
      "\u001b[1;31mNameError\u001b[0m: name 'html' is not defined"
     ]
    }
   ],
   "source": [
    "app.layout = html.Div(children=[\n",
    "                                html.H1(\"Dashboard Example\"),\n",
    "                                html.Div(\"Dash: Web Dashboards with Python\"),\n",
    "                                dcc.Graph(\n",
    "                                            id=\"old_faithful\",\n",
    "                                            figure=fig\n",
    "                                         )\n",
    "                                ]\n",
    "                     )"
   ]
  },
  {
   "cell_type": "markdown",
   "id": "711db358-862d-4177-a0d0-105e66b80a36",
   "metadata": {},
   "source": [
    "# Run App\n",
    "## In Cell"
   ]
  },
  {
   "cell_type": "code",
   "execution_count": null,
   "id": "27eab9f1-8ff0-4edf-b8c2-6466bb38568c",
   "metadata": {},
   "outputs": [],
   "source": [
    "app.run_server(mode=\"inline\", height=650, host='127.0.0.1', port='8050')"
   ]
  },
  {
   "cell_type": "markdown",
   "id": "baa8a1e6-6a85-42fa-9cd9-b84c436300be",
   "metadata": {},
   "source": [
    "Go to Restart Kernel and Clear All Outputs to End the Server."
   ]
  },
  {
   "cell_type": "markdown",
   "id": "68adbd2a-4647-4b51-9572-c1eb1a48f695",
   "metadata": {},
   "source": [
    "## In a New Tab (Inside JupyterLab)"
   ]
  },
  {
   "cell_type": "code",
   "execution_count": null,
   "id": "bd389b81-5e9b-4848-8fda-e55d10354274",
   "metadata": {},
   "outputs": [],
   "source": [
    "# app.run_server(mode=\"jupyterlab\", host='127.0.0.1', port='8050')"
   ]
  },
  {
   "cell_type": "markdown",
   "id": "2ccb09e0-5249-4b1f-ad37-e569abf9244d",
   "metadata": {},
   "source": [
    "Go to Restart Kernel and Clear All Outputs to End the Server."
   ]
  },
  {
   "cell_type": "markdown",
   "id": "8d80b80a-3ac8-45bf-a866-1f42476f795a",
   "metadata": {},
   "source": [
    "## In a New Tab"
   ]
  },
  {
   "cell_type": "code",
   "execution_count": null,
   "id": "63cd9d4d-90ef-4d63-8ac1-1c7adad693c4",
   "metadata": {},
   "outputs": [],
   "source": [
    "# app.run_server(host='127.0.0.1', port='8050')"
   ]
  },
  {
   "cell_type": "markdown",
   "id": "bc6d9df2-6a45-4274-a8cf-ddd1215d8cdc",
   "metadata": {},
   "source": [
    "Go to Restart Kernel and Clear All Outputs to End the Server."
   ]
  }
 ],
 "metadata": {
  "kernelspec": {
   "display_name": "Python 3 (ipykernel)",
   "language": "python",
   "name": "python3"
  },
  "language_info": {
   "codemirror_mode": {
    "name": "ipython",
    "version": 3
   },
   "file_extension": ".py",
   "mimetype": "text/x-python",
   "name": "python",
   "nbconvert_exporter": "python",
   "pygments_lexer": "ipython3",
   "version": "3.9.13"
  }
 },
 "nbformat": 4,
 "nbformat_minor": 5
}
