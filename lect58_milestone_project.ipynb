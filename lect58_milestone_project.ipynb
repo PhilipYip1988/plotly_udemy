{
 "cells": [
  {
   "cell_type": "markdown",
   "id": "53a3de44-6591-4f7f-941e-e2801fdc186b",
   "metadata": {},
   "source": [
    "# Import Libraries"
   ]
  },
  {
   "cell_type": "code",
   "execution_count": null,
   "id": "956c2343-1a4c-4bc9-a541-bc89d5895e76",
   "metadata": {},
   "outputs": [],
   "source": [
    "import numpy as np\n",
    "import pandas as pd\n",
    "import plotly.graph_objs as go\n",
    "import plotly.offline as pyo\n",
    "from jupyter_dash import JupyterDash\n",
    "import dash\n",
    "from dash import dcc\n",
    "from dash import html\n",
    "from dash.dependencies import Input, Output, State\n",
    "import pandas_datareader.data as web\n",
    "import datetime as dt"
   ]
  },
  {
   "cell_type": "markdown",
   "id": "9e58aa59-5afd-4dc5-ae98-8f5b3c0e01ce",
   "metadata": {},
   "source": [
    "# Create App"
   ]
  },
  {
   "cell_type": "code",
   "execution_count": null,
   "id": "8a7710b4-4ffc-40bb-80d8-ee3c84018876",
   "metadata": {},
   "outputs": [],
   "source": [
    "app = JupyterDash(__name__)"
   ]
  },
  {
   "cell_type": "markdown",
   "id": "bea731c2-400c-4867-886b-0e2e8127f7c6",
   "metadata": {},
   "source": [
    "# Modify App Layout\n",
    "\n",
    "Comment out only one of the cells in this section to run the Application with the selected App layout.\n",
    "\n",
    "Highlight the contents of the cell and use the shortcut key ```Ctrl``` + ```/``` to comment/uncomment all."
   ]
  },
  {
   "cell_type": "code",
   "execution_count": null,
   "id": "d6eb5d7d-8189-4722-aa18-72dc535dd168",
   "metadata": {},
   "outputs": [],
   "source": [
    "# data = [go.Scatter(x=[1, 2], y=[3, 1], mode=\"lines\")]\n",
    "# layout = go.Layout()\n",
    "# fig = go.Figure(data=data, layout=layout)\n",
    "\n",
    "# app.layout = html.Div([\n",
    "#                         html.H1(\"Stock Ticker Dashboard\"),\n",
    "#                         html.H3(\"Enter a stock symbol:\"),\n",
    "#                         dcc.Input(id=\"my-stock-picker\", value=\"TSLA\"),\n",
    "#                         dcc.Graph(id=\"my-graph\", figure=fig)\n",
    "#                       ]\n",
    "#                      )"
   ]
  },
  {
   "cell_type": "code",
   "execution_count": null,
   "id": "2d7fecbf-ad4c-4ad7-9e90-1c0afa556ce2",
   "metadata": {},
   "outputs": [],
   "source": [
    "# data = [go.Scatter(x=[1, 2], y=[3, 1], mode=\"lines\")]\n",
    "# layout = go.Layout(title=\"Default Title\")\n",
    "# fig = go.Figure(data=data, layout=layout)\n",
    "\n",
    "# app.layout = html.Div([\n",
    "#                         html.H1(\"Stock Ticker Dashboard\"),\n",
    "#                         html.H3(\"Enter a stock symbol:\"),\n",
    "#                         dcc.Input(id=\"my-stock-picker\", value=\"TSLA\"),\n",
    "#                         dcc.Graph(id=\"my-graph\", figure=fig)\n",
    "#                       ]\n",
    "#                      )\n",
    "\n",
    "# @app.callback(Output(\"my-graph\", \"figure\"),\n",
    "#               Input(\"my-stock-picker\", \"value\"))\n",
    "# def update_graph(stock_ticker):\n",
    "#     data = [go.Scatter(x=[1, 2], y=[3, 1], mode=\"lines\")]\n",
    "#     layout = go.Layout(title=stock_ticker)\n",
    "#     fig = go.Figure(data=data, layout=layout)\n",
    "#     return fig\n"
   ]
  },
  {
   "cell_type": "code",
   "execution_count": null,
   "id": "d58caf3e-bd68-469f-b7c3-84f1c87cb03c",
   "metadata": {},
   "outputs": [],
   "source": [
    "# data = [go.Scatter(x=[1, 2], y=[3, 1], mode=\"lines\")]\n",
    "# layout = go.Layout(title=\"Default Title\")\n",
    "# fig = go.Figure(data=data, layout=layout)\n",
    "\n",
    "# app.layout = html.Div([\n",
    "#                         html.H1(\"Stock Ticker Dashboard\"),\n",
    "#                         html.H3(\"Enter a stock symbol:\"),\n",
    "#                         dcc.Input(id=\"my-stock-picker\", value=\"TSLA\"),\n",
    "#                         dcc.Graph(id=\"my-graph\", figure=fig)\n",
    "#                       ]\n",
    "#                      )\n",
    "\n",
    "# @app.callback(Output(\"my-graph\", \"figure\"),\n",
    "#               Input(\"my-stock-picker\", \"value\"))\n",
    "# def update_graph(stock_ticker):\n",
    "#     start = dt.datetime(2017, 1, 1)\n",
    "#     end = dt.datetime(2017, 12, 31)\n",
    "#     df = web.DataReader(stock_ticker, \"stooq\", start, end)\n",
    "#     data = [go.Scatter(x=df.index, y=df[\"Close\"], mode=\"lines\")]\n",
    "#     layout = go.Layout(title=stock_ticker)\n",
    "#     fig = go.Figure(data=data, layout=layout)\n",
    "#     return fig"
   ]
  },
  {
   "cell_type": "code",
   "execution_count": null,
   "id": "b812521d-6a9e-40c3-ad08-cbb223f10561",
   "metadata": {},
   "outputs": [],
   "source": [
    "# data = [go.Scatter(x=[1, 2], y=[3, 1], mode=\"lines\")]\n",
    "# layout = go.Layout(title=\"Default Title\")\n",
    "# fig = go.Figure(data=data, layout=layout)\n",
    "\n",
    "# app.layout = html.Div([\n",
    "#                         html.H1(\"Stock Ticker Dashboard\"),\n",
    "#                         html.Div([html.H3(\"Enter a stock symbol:\", style={\"paddingRight\": \"30px\"}),\n",
    "#                                   dcc.Input(id=\"my-stock-picker\", value=\"TSLA\", style={\"fontSize\": 24, \"width\": 75})\n",
    "#                                  ], style={\"display\": \"inline-block\", \"verticalAlign\": \"top\"}\n",
    "#                                 ),\n",
    "#                         html.Div([html.H3(\"Select a start and end date:\", style={\"paddingRight\": \"30px\"}),\n",
    "#                                   dcc.DatePickerRange(id=\"my-date-picker\", min_date_allowed=dt.datetime(2015, 1, 1), \n",
    "#                                                       max_date_allowed = dt.datetime.today(),\n",
    "#                                                       start_date=dt.datetime(2018,1,1), end_date=dt.datetime.today())\n",
    "#                                   ], style={\"display\": \"inline-block\"}\n",
    "#                                  ),\n",
    "#                         dcc.Graph(id=\"my-graph\", figure=fig)\n",
    "#                         ]\n",
    "#                        )\n",
    "\n",
    "# @app.callback(Output(\"my-graph\", \"figure\"),\n",
    "#               [Input(\"my-stock-picker\", \"value\"), \n",
    "#                Input(\"my-date-picker\", \"start_date\"), \n",
    "#                Input(\"my-date-picker\", \"end_date\")])\n",
    "# def update_graph(stock_ticker, start_date, end_date):\n",
    "#     start = dt.datetime.strptime(start_date[:10], \"%Y-%m-%d\")\n",
    "#     end = dt.datetime.strptime(end_date[:10], \"%Y-%m-%d\")\n",
    "#     df = web.DataReader(stock_ticker, \"stooq\", start, end)\n",
    "#     data = [go.Scatter(x=df.index, y=df[\"Close\"], mode=\"lines\")]\n",
    "#     layout = go.Layout(title=stock_ticker)\n",
    "#     fig = go.Figure(data=data, layout=layout)\n",
    "#     return fig"
   ]
  },
  {
   "cell_type": "code",
   "execution_count": null,
   "id": "08f37061-8c1b-49cd-8ef0-82cb07fcbb57",
   "metadata": {},
   "outputs": [],
   "source": [
    "# data = [go.Scatter(x=[1, 2], y=[3, 1], mode=\"lines\")]\n",
    "# layout = go.Layout(title=\"Default Title\")\n",
    "# fig = go.Figure(data=data, layout=layout)\n",
    "\n",
    "# app.layout = html.Div([\n",
    "#                         html.H1(\"Stock Ticker Dashboard\"),\n",
    "#                         html.Div([html.H3(\"Enter a stock symbol:\", style={\"paddingRight\": \"30px\"}),\n",
    "#                                   dcc.Input(id=\"my-stock-picker\", value=\"TSLA\", style={\"fontSize\": 24, \"width\": 75})\n",
    "#                                  ], style={\"display\": \"inline-block\", \"verticalAlign\": \"top\"}\n",
    "#                                 ),\n",
    "#                         html.Div([html.H3(\"Select a start and end date:\", style={\"paddingRight\": \"30px\"}),\n",
    "#                                   dcc.DatePickerRange(id=\"my-date-picker\", min_date_allowed=dt.datetime(2015, 1, 1), \n",
    "#                                                       max_date_allowed = dt.datetime.today(),\n",
    "#                                                       start_date=dt.datetime(2018,1,1), end_date=dt.datetime.today())\n",
    "#                                   ], style={\"display\": \"inline-block\"}\n",
    "#                                  ),\n",
    "#                         html.Div(html.Button(id=\"submit-button\", n_clicks=0, children=\"Submit\", \n",
    "#                                              style={\"fontSize\": 24, \"marginLeft\": \"30px\"}), \n",
    "#                                  style={\"display\": \"inline-block\"}),\n",
    "#                         dcc.Graph(id=\"my-graph\", figure=fig)\n",
    "#                         ]\n",
    "#                        )\n",
    "\n",
    "# @app.callback(Output(\"my-graph\", \"figure\"),\n",
    "#               Input(\"submit-button\", \"n_clicks\"),\n",
    "#               [State(\"my-stock-picker\", \"value\"), \n",
    "#                State(\"my-date-picker\", \"start_date\"), \n",
    "#                State(\"my-date-picker\", \"end_date\")])\n",
    "# def update_graph(n_clicks, stock_ticker, start_date, end_date):\n",
    "#     start = dt.datetime.strptime(start_date[:10], \"%Y-%m-%d\")\n",
    "#     end = dt.datetime.strptime(end_date[:10], \"%Y-%m-%d\")\n",
    "#     df = web.DataReader(stock_ticker, \"stooq\", start, end)\n",
    "#     data = [go.Scatter(x=df.index, y=df[\"Close\"], mode=\"lines\")]\n",
    "#     layout = go.Layout(title=stock_ticker)\n",
    "#     fig = go.Figure(data=data, layout=layout)\n",
    "#     return fig"
   ]
  },
  {
   "cell_type": "code",
   "execution_count": null,
   "id": "fffec29a-a1fc-4df9-84b1-64062f8a82c2",
   "metadata": {},
   "outputs": [],
   "source": [
    "nsdq = pd.read_csv(\"./data/NASDAQcompanylist.csv\", index_col=0)\n",
    "nsdq.head()"
   ]
  },
  {
   "cell_type": "code",
   "execution_count": null,
   "id": "5477eac1-3c15-43c2-ba7f-74d3847835c9",
   "metadata": {},
   "outputs": [],
   "source": [
    "options = [{\"label\": f\"{nsdq.loc[tic]['Name']} {tic}\", \"value\": tic} for tic in nsdq.index]"
   ]
  },
  {
   "cell_type": "code",
   "execution_count": null,
   "id": "5f3d37c0-ff49-46db-968d-d0ff60010f3d",
   "metadata": {},
   "outputs": [],
   "source": [
    "data = [go.Scatter(x=[1, 2], y=[3, 1], mode=\"lines\")]\n",
    "layout = go.Layout(title=\"Default Title\")\n",
    "fig = go.Figure(data=data, layout=layout)\n",
    "\n",
    "app.layout = html.Div([\n",
    "                        html.H1(\"Stock Ticker Dashboard\"),\n",
    "                        html.Div([html.H3(\"Enter a stock symbol:\", style={\"paddingRight\": \"30px\"}),\n",
    "                                  dcc.Dropdown(id=\"my-stock-picker\", options=options, value=[\"TSLA\"], multi=True)\n",
    "                                 ], style={\"display\": \"inline-block\", \"verticalAlign\": \"top\", \"width\": \"30%\"}\n",
    "                                ),\n",
    "                        html.Div([html.H3(\"Select a start and end date:\", style={\"paddingRight\": \"30px\"}),\n",
    "                                  dcc.DatePickerRange(id=\"my-date-picker\", min_date_allowed=dt.datetime(2015, 1, 1), \n",
    "                                                      max_date_allowed = dt.datetime.today(),\n",
    "                                                      start_date=dt.datetime(2018,1,1), end_date=dt.datetime.today())\n",
    "                                  ], style={\"display\": \"inline-block\"}\n",
    "                                 ),\n",
    "                        html.Div(html.Button(id=\"submit-button\", n_clicks=0, children=\"Submit\", \n",
    "                                             style={\"fontSize\": 24, \"marginLeft\": \"30px\"}), \n",
    "                                 style={\"display\": \"inline-block\"}),\n",
    "                        dcc.Graph(id=\"my-graph\", figure=fig)\n",
    "                        ]\n",
    "                       )\n",
    "\n",
    "@app.callback(Output(\"my-graph\", \"figure\"),\n",
    "              Input(\"submit-button\", \"n_clicks\"),\n",
    "              [State(\"my-stock-picker\", \"value\"), \n",
    "               State(\"my-date-picker\", \"start_date\"), \n",
    "               State(\"my-date-picker\", \"end_date\")])\n",
    "def update_graph(n_clicks, stock_ticker, start_date, end_date):\n",
    "    start = dt.datetime.strptime(start_date[:10], \"%Y-%m-%d\")\n",
    "    end = dt.datetime.strptime(end_date[:10], \"%Y-%m-%d\")\n",
    "    data = []\n",
    "    for tic in stock_ticker:\n",
    "        df = web.DataReader(tic, \"stooq\", start, end)\n",
    "        data.append(go.Scatter(x=df.index, y=df[\"Close\"], mode=\"lines\", name=tic))\n",
    "    layout = go.Layout(title=\" \".join(stock_ticker))\n",
    "    fig = go.Figure(data=data, layout=layout)\n",
    "    return fig"
   ]
  },
  {
   "cell_type": "markdown",
   "id": "13d7db77-9775-428a-8227-53063da61c0a",
   "metadata": {},
   "source": [
    "# Run App \n",
    "\n",
    "## In Cell"
   ]
  },
  {
   "cell_type": "code",
   "execution_count": null,
   "id": "e217df7d-51fd-405f-9ae9-ce42f8396430",
   "metadata": {},
   "outputs": [],
   "source": [
    "app.run_server(mode=\"inline\", height=650, host='127.0.0.1', port='8050')"
   ]
  },
  {
   "cell_type": "markdown",
   "id": "0bfad716-3517-44ef-8679-eaf5077ef296",
   "metadata": {},
   "source": [
    "Go to Restart Kernel and Clear All Outputs to End the Server."
   ]
  },
  {
   "cell_type": "markdown",
   "id": "92d36c85-f897-4b00-b8f9-ee7f0ecfce3e",
   "metadata": {},
   "source": [
    "## In a New Tab (Inside JupyterLab)"
   ]
  },
  {
   "cell_type": "code",
   "execution_count": null,
   "id": "b2c326b4-b53e-42fc-856f-6e49f8cc527c",
   "metadata": {},
   "outputs": [],
   "source": [
    "# app.run_server(mode=\"jupyterlab\")"
   ]
  },
  {
   "cell_type": "markdown",
   "id": "7796f90a-dbd7-45aa-9c4c-14b3d8ea13d7",
   "metadata": {},
   "source": [
    "Go to Restart Kernel and Clear All Outputs to End the Server."
   ]
  },
  {
   "cell_type": "markdown",
   "id": "baa1c96f-9beb-45ef-82bb-59af4f2fbf5b",
   "metadata": {},
   "source": [
    "## In a New Tab"
   ]
  },
  {
   "cell_type": "code",
   "execution_count": null,
   "id": "fd69ef0d-6c4d-4167-bd55-5e29195ec08f",
   "metadata": {},
   "outputs": [],
   "source": [
    "# app.run_server()"
   ]
  },
  {
   "cell_type": "markdown",
   "id": "0014ebe6-d61f-4897-8fd0-837f8de8c835",
   "metadata": {},
   "source": [
    "Go to Restart Kernel and Clear All Outputs to End the Server."
   ]
  },
  {
   "cell_type": "code",
   "execution_count": null,
   "id": "1139993b-a139-44f9-8cbb-bc14321bb697",
   "metadata": {},
   "outputs": [],
   "source": []
  }
 ],
 "metadata": {
  "kernelspec": {
   "display_name": "Python 3 (ipykernel)",
   "language": "python",
   "name": "python3"
  },
  "language_info": {
   "codemirror_mode": {
    "name": "ipython",
    "version": 3
   },
   "file_extension": ".py",
   "mimetype": "text/x-python",
   "name": "python",
   "nbconvert_exporter": "python",
   "pygments_lexer": "ipython3",
   "version": "3.10.6"
  }
 },
 "nbformat": 4,
 "nbformat_minor": 5
}
