{
 "cells": [
  {
   "cell_type": "markdown",
   "id": "53a3de44-6591-4f7f-941e-e2801fdc186b",
   "metadata": {},
   "source": [
    "# Import Libraries"
   ]
  },
  {
   "cell_type": "code",
   "execution_count": null,
   "id": "956c2343-1a4c-4bc9-a541-bc89d5895e76",
   "metadata": {},
   "outputs": [],
   "source": [
    "from jupyter_dash import JupyterDash\n",
    "import dash\n",
    "from dash import dcc\n",
    "from dash import html\n",
    "from dash.dependencies import Input, Output"
   ]
  },
  {
   "cell_type": "markdown",
   "id": "12007e10-d0d7-4efc-ae4a-80c1a242008d",
   "metadata": {},
   "source": [
    "# Decorator Functions"
   ]
  },
  {
   "cell_type": "markdown",
   "id": "e598770d-c983-4c32-8fb5-2d24b2102ba4",
   "metadata": {},
   "source": [
    "A decorator is a function that takes another function and extends the behaviour of the latter function without modifying it. \n",
    "\n",
    "We can create a simple decorator function ```do_twice``` that takes a positional input argument ```func``` and executes it twice. To do this the decorator function ```do_twice``` needs to include a wrapper function ```wrapper_do_twice``` which executes the input function twice. Finally ```do_twice``` has to we return the wrapper function ```wrapper_do_twice```:"
   ]
  },
  {
   "cell_type": "code",
   "execution_count": null,
   "id": "4455a0fc-4dc6-45bd-986d-dd449d5f1ddf",
   "metadata": {},
   "outputs": [],
   "source": [
    "def do_twice(func):\n",
    "    def wrapper_do_twice():\n",
    "        func()\n",
    "        func()\n",
    "    return wrapper_do_twice"
   ]
  },
  {
   "cell_type": "markdown",
   "id": "6fb793a7-47b1-4e1e-979e-8f2dc9d17236",
   "metadata": {},
   "source": [
    "Now we can create a function greeting:"
   ]
  },
  {
   "cell_type": "code",
   "execution_count": null,
   "id": "afae55ef-603d-4392-8357-4ac881b36668",
   "metadata": {},
   "outputs": [],
   "source": [
    "def greeting():\n",
    "    print(\"Hello World!\")"
   ]
  },
  {
   "cell_type": "markdown",
   "id": "975fef14-209b-4417-be8b-e7487ae7774c",
   "metadata": {},
   "source": [
    "We can call this using:"
   ]
  },
  {
   "cell_type": "code",
   "execution_count": null,
   "id": "e9e2f69d-2a73-4847-9136-3502590298ee",
   "metadata": {},
   "outputs": [],
   "source": [
    "greeting()"
   ]
  },
  {
   "cell_type": "markdown",
   "id": "72001bfe-aaf8-468f-a914-51dad412f5f2",
   "metadata": {},
   "source": [
    "If we redefine this function after using the decorator ```@do_twice```:"
   ]
  },
  {
   "cell_type": "code",
   "execution_count": null,
   "id": "cf941c19-6a3b-4bd5-a816-a3cb9f742537",
   "metadata": {},
   "outputs": [],
   "source": [
    "@do_twice\n",
    "def greeting():\n",
    "    print(\"Hello World!\")"
   ]
  },
  {
   "cell_type": "markdown",
   "id": "e3061fbb-9289-4fc1-b3f3-baf52de728d4",
   "metadata": {},
   "source": [
    "Calling the function greeting, will display the greeting twice:"
   ]
  },
  {
   "cell_type": "code",
   "execution_count": null,
   "id": "c528c921-f035-4bd1-a9c9-99bd12d26529",
   "metadata": {},
   "outputs": [],
   "source": [
    "greeting()"
   ]
  },
  {
   "cell_type": "markdown",
   "id": "8477acce-646d-4b37-9773-84b7f63a617d",
   "metadata": {},
   "source": [
    "We can modify the decorator function, to allow for function positional and keyword input arguments using:"
   ]
  },
  {
   "cell_type": "code",
   "execution_count": null,
   "id": "2f02e8cc-d5ab-4f7c-8b51-3342c660b602",
   "metadata": {},
   "outputs": [],
   "source": [
    "def do_twice(func):\n",
    "    def wrapper_do_twice(*args, **kwargs):\n",
    "        func(*args, **kwargs)\n",
    "        func(*args, **kwargs)\n",
    "    return wrapper_do_twice"
   ]
  },
  {
   "cell_type": "markdown",
   "id": "002a3088-6e61-44cf-a9b7-6c01ef820554",
   "metadata": {},
   "source": [
    "Now we can decorate a function that has an input argument:"
   ]
  },
  {
   "cell_type": "code",
   "execution_count": null,
   "id": "670796e9-33b3-4526-9fd7-257cb0401a31",
   "metadata": {},
   "outputs": [],
   "source": [
    "@do_twice\n",
    "def greeting(name):\n",
    "    print(f\"Hello {name}\")"
   ]
  },
  {
   "cell_type": "code",
   "execution_count": null,
   "id": "30ec6fd9-3e3e-4f4b-98aa-2fbf11be527b",
   "metadata": {},
   "outputs": [],
   "source": [
    "greeting(\"Philip\")"
   ]
  },
  {
   "cell_type": "markdown",
   "id": "9e58aa59-5afd-4dc5-ae98-8f5b3c0e01ce",
   "metadata": {},
   "source": [
    "# Create App"
   ]
  },
  {
   "cell_type": "code",
   "execution_count": null,
   "id": "8a7710b4-4ffc-40bb-80d8-ee3c84018876",
   "metadata": {},
   "outputs": [],
   "source": [
    "app = JupyterDash(__name__)"
   ]
  },
  {
   "cell_type": "markdown",
   "id": "bea731c2-400c-4867-886b-0e2e8127f7c6",
   "metadata": {},
   "source": [
    "# Modify App Layout\n",
    "\n",
    "Comment out only one of the cells in this section to run the Application with the selected App layout.\n",
    "\n",
    "Highlight the contents of the cell and use the shortcut key ```Ctrl``` + ```/``` to comment/uncomment all."
   ]
  },
  {
   "cell_type": "markdown",
   "id": "2114a46b-7741-4e34-b292-924abb0bd908",
   "metadata": {},
   "source": [
    "We can create a simple app layout with a text input box and a div:"
   ]
  },
  {
   "cell_type": "code",
   "execution_count": null,
   "id": "d6eb5d7d-8189-4722-aa18-72dc535dd168",
   "metadata": {},
   "outputs": [],
   "source": [
    "# app.layout = html.Div([\n",
    "#                         dcc.Input(id=\"my-id\", value=\"Initial Text\", type=\"text\"),\n",
    "#                         html.Div(id=\"my-div\")\n",
    "#                                 ]\n",
    "#                      )"
   ]
  },
  {
   "cell_type": "markdown",
   "id": "572469da-c1cc-416c-bd40-d893ad1860f3",
   "metadata": {},
   "source": [
    "To make this clear we can add a style around the div so we can visualise this div:"
   ]
  },
  {
   "cell_type": "code",
   "execution_count": null,
   "id": "f29b005e-09b6-4bfd-8dd8-37ab304c59f5",
   "metadata": {},
   "outputs": [],
   "source": [
    "# app.layout = html.Div([\n",
    "#                         dcc.Input(id=\"my-id\", value=\"Initial Text\", type=\"text\"),\n",
    "#                         html.Div(id=\"my-div\", style={\"border\": \"2px blue solid\"})\n",
    "#                                 ]\n",
    "#                      )"
   ]
  },
  {
   "cell_type": "markdown",
   "id": "6e7df26e-1009-4782-8b66-709499c906c7",
   "metadata": {},
   "source": [
    "We can use the decorator function callback and supply an Output dash dependency and Input dash dependency. The Output dash dependency and Input dash dependency require the component ids which were assigned in the app layout. \n",
    "\n",
    "The Output dash dependency and Input dash dependency also require component properties. In the case of the Input, this is the ```\"value\"``` read (from the text input box ```dcc.Input```) and in the case of the Output, this is ```\"children\"``` which is the text value of the ```html.Div```.\n",
    "\n",
    "Note do not confuse the ```dcc.Input``` which is a dash core component text input box with the ```dash.dependencies.Input``` which is used to define an Input for the decorator ```@app.callback```."
   ]
  },
  {
   "cell_type": "code",
   "execution_count": null,
   "id": "688f649f-22ae-4136-967d-a95fc3a4fd87",
   "metadata": {},
   "outputs": [],
   "source": [
    "app.layout = html.Div([\n",
    "                        dcc.Input(id=\"my-id\", value=\"Initial Text\", type=\"text\"),\n",
    "                        html.Div(id=\"my-div\")\n",
    "                                ]\n",
    "                     )\n",
    "\n",
    "@app.callback(\n",
    "                Output(component_id=\"my-div\", component_property=\"children\"),\n",
    "                Input(component_id=\"my-id\", component_property=\"value\")\n",
    "             )\n",
    "def update_output_div(input_value):\n",
    "    return f\"You entered: {input_value}\""
   ]
  },
  {
   "cell_type": "markdown",
   "id": "13d7db77-9775-428a-8227-53063da61c0a",
   "metadata": {},
   "source": [
    "# Run App \n",
    "\n",
    "## In Cell"
   ]
  },
  {
   "cell_type": "code",
   "execution_count": null,
   "id": "e217df7d-51fd-405f-9ae9-ce42f8396430",
   "metadata": {},
   "outputs": [],
   "source": [
    "app.run_server(mode=\"inline\", height=650, host='127.0.0.1', port='8050')"
   ]
  },
  {
   "cell_type": "markdown",
   "id": "0bfad716-3517-44ef-8679-eaf5077ef296",
   "metadata": {},
   "source": [
    "Go to Restart Kernel and Clear All Outputs to End the Server."
   ]
  },
  {
   "cell_type": "markdown",
   "id": "92d36c85-f897-4b00-b8f9-ee7f0ecfce3e",
   "metadata": {},
   "source": [
    "## In a New Tab (Inside JupyterLab)"
   ]
  },
  {
   "cell_type": "code",
   "execution_count": null,
   "id": "b2c326b4-b53e-42fc-856f-6e49f8cc527c",
   "metadata": {},
   "outputs": [],
   "source": [
    "# app.run_server(mode=\"jupyterlab\")"
   ]
  },
  {
   "cell_type": "markdown",
   "id": "7796f90a-dbd7-45aa-9c4c-14b3d8ea13d7",
   "metadata": {},
   "source": [
    "Go to Restart Kernel and Clear All Outputs to End the Server."
   ]
  },
  {
   "cell_type": "markdown",
   "id": "baa1c96f-9beb-45ef-82bb-59af4f2fbf5b",
   "metadata": {},
   "source": [
    "## In a New Tab"
   ]
  },
  {
   "cell_type": "code",
   "execution_count": null,
   "id": "fd69ef0d-6c4d-4167-bd55-5e29195ec08f",
   "metadata": {},
   "outputs": [],
   "source": [
    "# app.run_server()"
   ]
  },
  {
   "cell_type": "markdown",
   "id": "0014ebe6-d61f-4897-8fd0-837f8de8c835",
   "metadata": {},
   "source": [
    "Go to Restart Kernel and Clear All Outputs to End the Server."
   ]
  },
  {
   "cell_type": "code",
   "execution_count": null,
   "id": "722586b7-4e71-4c5a-a104-680c44504581",
   "metadata": {},
   "outputs": [],
   "source": []
  }
 ],
 "metadata": {
  "kernelspec": {
   "display_name": "Python 3 (ipykernel)",
   "language": "python",
   "name": "python3"
  },
  "language_info": {
   "codemirror_mode": {
    "name": "ipython",
    "version": 3
   },
   "file_extension": ".py",
   "mimetype": "text/x-python",
   "name": "python",
   "nbconvert_exporter": "python",
   "pygments_lexer": "ipython3",
   "version": "3.9.13"
  }
 },
 "nbformat": 4,
 "nbformat_minor": 5
}
