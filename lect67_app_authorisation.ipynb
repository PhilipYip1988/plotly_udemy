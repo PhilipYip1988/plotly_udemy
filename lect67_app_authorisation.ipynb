{
 "cells": [
  {
   "cell_type": "markdown",
   "id": "53a3de44-6591-4f7f-941e-e2801fdc186b",
   "metadata": {},
   "source": [
    "# Import Libraries"
   ]
  },
  {
   "cell_type": "code",
   "execution_count": null,
   "id": "956c2343-1a4c-4bc9-a541-bc89d5895e76",
   "metadata": {},
   "outputs": [],
   "source": [
    "import numpy as np\n",
    "import pandas as pd\n",
    "import plotly.graph_objs as go\n",
    "import plotly.offline as pyo\n",
    "from jupyter_dash import JupyterDash\n",
    "import dash\n",
    "from dash import dcc\n",
    "from dash import html\n",
    "from dash.dependencies import Input, Output, State\n",
    "import dash_auth"
   ]
  },
  {
   "cell_type": "markdown",
   "id": "4adfad49-e88c-4190-b4c7-afb6672f8d51",
   "metadata": {},
   "source": [
    "# Depreciated import for dash_auth"
   ]
  },
  {
   "cell_type": "markdown",
   "id": "6cb76982-7c9a-4e2d-b1fb-f524a38ea6e4",
   "metadata": {},
   "source": [
    "There is a problem with the plotly_auth.py module, it uses the depreciated import for dcc and html, resulting in a module not found error.\n",
    "Open the following folder in file explorer:\n",
    "\n",
    "/home/philip/anaconda3/envs/jupyterlab-cf/lib/python3.10/site-packages/dash_auth\n",
    "\n",
    "Open plotly_auth.py and update line 16 and 17 to:\n",
    "\n",
    "```\n",
    "from dash import dcc\n",
    "from dash import html\n",
    "```"
   ]
  },
  {
   "cell_type": "markdown",
   "id": "9e58aa59-5afd-4dc5-ae98-8f5b3c0e01ce",
   "metadata": {},
   "source": [
    "# Create App"
   ]
  },
  {
   "cell_type": "code",
   "execution_count": null,
   "id": "8a7710b4-4ffc-40bb-80d8-ee3c84018876",
   "metadata": {},
   "outputs": [],
   "source": [
    "app = JupyterDash(__name__)"
   ]
  },
  {
   "cell_type": "markdown",
   "id": "e4bb1edf-8281-4d2f-8cb9-9b339f302352",
   "metadata": {},
   "source": [
    "# Add Authentication"
   ]
  },
  {
   "cell_type": "code",
   "execution_count": null,
   "id": "2a79f17b-95af-427b-a73e-73eefd6fb89b",
   "metadata": {},
   "outputs": [],
   "source": [
    "USERNAME_PASSWORD_PAIRS = [[\"username\", \"password\"], \n",
    "                           [\"Jamesbond\", \"007\"]]"
   ]
  },
  {
   "cell_type": "markdown",
   "id": "13d28c03-0129-4b16-b643-dd3c7849e79a",
   "metadata": {},
   "source": [
    "The server will not run with jupyter_dash:"
   ]
  },
  {
   "cell_type": "code",
   "execution_count": null,
   "id": "f1ea17f5-ab56-4232-aca9-85b9528d967f",
   "metadata": {},
   "outputs": [],
   "source": [
    "# auth = dash_auth.BasicAuth(app, USERNAME_PASSWORD_PAIRS)"
   ]
  },
  {
   "cell_type": "markdown",
   "id": "bea731c2-400c-4867-886b-0e2e8127f7c6",
   "metadata": {},
   "source": [
    "# Modify App Layout\n",
    "\n",
    "Comment out only one of the cells in this section to run the Application with the selected App layout.\n",
    "\n",
    "Highlight the contents of the cell and use the shortcut key ```Ctrl``` + ```/``` to comment/uncomment all."
   ]
  },
  {
   "cell_type": "code",
   "execution_count": null,
   "id": "d6eb5d7d-8189-4722-aa18-72dc535dd168",
   "metadata": {},
   "outputs": [],
   "source": [
    "app.layout = html.Div(children=[\n",
    "                                html.H1(\"Range Slider\"),\n",
    "                                dcc.RangeSlider(-5, 6, 1, value=[-2, 3], id=\"my-range-slider\"),\n",
    "                                html.P(),\n",
    "                                html.H1(\"Output 1\"),\n",
    "                                html.Div(id=\"output-container-range-slider\"),\n",
    "                                html.P(),\n",
    "                                html.H1(\"Output 2\"),\n",
    "                                html.Div(id=\"output-container-range-slider2\"),\n",
    "                                html.P()\n",
    "                                ]\n",
    "                     )\n",
    "\n",
    "@app.callback(\n",
    "    Output(\"output-container-range-slider\", \"children\"),\n",
    "    [Input(\"my-range-slider\", \"value\")])\n",
    "def update_output(value):\n",
    "    return f\"You have selected {value[0]} and {value[1]}.\"\n",
    "\n",
    "@app.callback(\n",
    "    Output(\"output-container-range-slider2\", \"children\"),\n",
    "    [Input(\"my-range-slider\", \"value\")])\n",
    "def update_output(value):\n",
    "    return f\"The product is {value[0]*value[1]}.\""
   ]
  },
  {
   "cell_type": "markdown",
   "id": "13d7db77-9775-428a-8227-53063da61c0a",
   "metadata": {},
   "source": [
    "# Run App \n",
    "\n",
    "## In Cell"
   ]
  },
  {
   "cell_type": "code",
   "execution_count": null,
   "id": "e217df7d-51fd-405f-9ae9-ce42f8396430",
   "metadata": {},
   "outputs": [],
   "source": [
    "app.run_server(mode=\"inline\", height=650, host='127.0.0.1', port='8050')"
   ]
  },
  {
   "cell_type": "markdown",
   "id": "0bfad716-3517-44ef-8679-eaf5077ef296",
   "metadata": {},
   "source": [
    "Go to Restart Kernel and Clear All Outputs to End the Server."
   ]
  },
  {
   "cell_type": "markdown",
   "id": "92d36c85-f897-4b00-b8f9-ee7f0ecfce3e",
   "metadata": {},
   "source": [
    "## In a New Tab (Inside JupyterLab)"
   ]
  },
  {
   "cell_type": "code",
   "execution_count": null,
   "id": "b2c326b4-b53e-42fc-856f-6e49f8cc527c",
   "metadata": {},
   "outputs": [],
   "source": [
    "# app.run_server(mode=\"jupyterlab\")"
   ]
  },
  {
   "cell_type": "markdown",
   "id": "7796f90a-dbd7-45aa-9c4c-14b3d8ea13d7",
   "metadata": {},
   "source": [
    "Go to Restart Kernel and Clear All Outputs to End the Server."
   ]
  },
  {
   "cell_type": "markdown",
   "id": "baa1c96f-9beb-45ef-82bb-59af4f2fbf5b",
   "metadata": {},
   "source": [
    "## In a New Tab"
   ]
  },
  {
   "cell_type": "code",
   "execution_count": null,
   "id": "fd69ef0d-6c4d-4167-bd55-5e29195ec08f",
   "metadata": {},
   "outputs": [],
   "source": [
    "# app.run_server()"
   ]
  },
  {
   "cell_type": "markdown",
   "id": "0014ebe6-d61f-4897-8fd0-837f8de8c835",
   "metadata": {},
   "source": [
    "Go to Restart Kernel and Clear All Outputs to End the Server."
   ]
  },
  {
   "cell_type": "code",
   "execution_count": null,
   "id": "722586b7-4e71-4c5a-a104-680c44504581",
   "metadata": {},
   "outputs": [],
   "source": []
  }
 ],
 "metadata": {
  "kernelspec": {
   "display_name": "Python 3 (ipykernel)",
   "language": "python",
   "name": "python3"
  },
  "language_info": {
   "codemirror_mode": {
    "name": "ipython",
    "version": 3
   },
   "file_extension": ".py",
   "mimetype": "text/x-python",
   "name": "python",
   "nbconvert_exporter": "python",
   "pygments_lexer": "ipython3",
   "version": "3.10.6"
  }
 },
 "nbformat": 4,
 "nbformat_minor": 5
}
