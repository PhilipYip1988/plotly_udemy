{
 "cells": [
  {
   "cell_type": "markdown",
   "id": "ccf03ec3-f98b-4a05-a0b8-a27ffea31efc",
   "metadata": {},
   "source": [
    "# Import Data Science Libraries"
   ]
  },
  {
   "cell_type": "code",
   "execution_count": null,
   "id": "d6bcb88b-2837-486d-9d0c-087d1b111c9e",
   "metadata": {},
   "outputs": [],
   "source": [
    "import numpy as np\n",
    "from jupyter_dash import JupyterDash\n",
    "import dash\n",
    "from dash import dcc\n",
    "from dash import html\n",
    "import plotly.graph_objs as go"
   ]
  },
  {
   "cell_type": "markdown",
   "id": "d4e095ac-e1f3-49a3-a73f-4ec60dfafdb7",
   "metadata": {},
   "source": [
    "# Create Application"
   ]
  },
  {
   "cell_type": "code",
   "execution_count": null,
   "id": "bffb2768-e8b6-4c6e-8c30-231564de1d3b",
   "metadata": {},
   "outputs": [],
   "source": [
    "app = JupyterDash(__name__)"
   ]
  },
  {
   "cell_type": "markdown",
   "id": "a1af72ec-545d-4bf6-a5b5-6f32e9b512fc",
   "metadata": {},
   "source": [
    "# Modify App Layout\n",
    "\n",
    "Comment out only one of the cells in this section to run the Application with the selected App layout.\n",
    "\n",
    "Highlight the contents of the cell and use the shortcut key ```Ctrl``` + ```/``` to comment/uncomment all."
   ]
  },
  {
   "cell_type": "markdown",
   "id": "e2c41a55-b8ac-4f76-900b-44e175a17f98",
   "metadata": {},
   "source": [
    "### Outer Div:"
   ]
  },
  {
   "cell_type": "code",
   "execution_count": null,
   "id": "8e5122e5-7cce-4b9e-8f51-ca1ab5313334",
   "metadata": {},
   "outputs": [],
   "source": [
    "# app.layout = html.Div([\"This is the outermost div!\"])"
   ]
  },
  {
   "cell_type": "markdown",
   "id": "026d29af-23be-4374-bc01-09338893532f",
   "metadata": {},
   "source": [
    "### Outer Div Styled"
   ]
  },
  {
   "cell_type": "code",
   "execution_count": null,
   "id": "0e097ed8-f135-4fe3-9e17-5897e6341e75",
   "metadata": {},
   "outputs": [],
   "source": [
    "# app.layout = html.Div([\"This is the outermost div!\"], \n",
    "#                      style={\"color\": \"green\", \"border\": \"2px green solid\"})"
   ]
  },
  {
   "cell_type": "markdown",
   "id": "8a1e522a-83c5-4fc3-a996-f61a791c25a1",
   "metadata": {},
   "source": [
    "### Outer Div Styled with Inner Div\n",
    "\n",
    "Note the Outer Div is a list that contains multiple HTML elements.\n",
    "\n",
    "The inner Div only contains a single element so does not need to be specified as a list."
   ]
  },
  {
   "cell_type": "code",
   "execution_count": null,
   "id": "a80a72eb-4434-46df-9e48-4ab3593b1ef9",
   "metadata": {},
   "outputs": [],
   "source": [
    "# app.layout = html.Div([\n",
    "#                           \"This is the outermost div!\", \n",
    "#                           html.Div(\"This is an inner div!\", style={\"color\": \"red\"})\n",
    "#                       ],\n",
    "#                       style={\"color\": \"green\", \"border\": \"2px green solid\"})"
   ]
  },
  {
   "cell_type": "markdown",
   "id": "9f01efef-fc43-4911-95dc-298cb2677ec1",
   "metadata": {},
   "source": [
    "### Outer Div Styled with Two Inner Divs"
   ]
  },
  {
   "cell_type": "code",
   "execution_count": null,
   "id": "9e7bf740-ba98-4c7e-957d-f508a1c0cdac",
   "metadata": {},
   "outputs": [],
   "source": [
    "app.layout = html.Div([\n",
    "                          \"This is the outermost div!\", \n",
    "                          html.Div(\"This is an inner div!\", style={\"color\": \"red\", \"border\": \"2px red solid\"}),\n",
    "                          html.Div(\n",
    "                              [\"Another inner div!\"], \n",
    "                              style={\"color\": \"blue\", \"border\": \"3px blue solid\"}\n",
    "                                  )\n",
    "                      ],\n",
    "                      style={\"color\": \"green\", \"border\": \"2px green solid\"})"
   ]
  },
  {
   "cell_type": "markdown",
   "id": "4bf395da-7656-4a7d-b24c-8e26c0041956",
   "metadata": {},
   "source": [
    "# Run App\n",
    "## In Cell"
   ]
  },
  {
   "cell_type": "code",
   "execution_count": null,
   "id": "56214b00-7c66-49d1-965b-7e0bd3e9dcac",
   "metadata": {},
   "outputs": [],
   "source": [
    "app.run_server(mode=\"inline\", height=650, host='127.0.0.1', port='8050')"
   ]
  },
  {
   "cell_type": "markdown",
   "id": "015a4d21-60e1-47cc-8b8d-15c9a65747ae",
   "metadata": {},
   "source": [
    "Go to Restart Kernel and Clear All Outputs to End the Server."
   ]
  },
  {
   "cell_type": "markdown",
   "id": "cbb61678-b069-4dd7-95ca-dcb15f24a986",
   "metadata": {},
   "source": [
    "## In a New Tab (Inside JupyterLab)"
   ]
  },
  {
   "cell_type": "code",
   "execution_count": null,
   "id": "f6b057c5-0a0e-4c77-9b05-e9e8792f54fa",
   "metadata": {},
   "outputs": [],
   "source": [
    "# app.run_server(mode=\"jupyterlab\", host='127.0.0.1', port='8050')"
   ]
  },
  {
   "cell_type": "markdown",
   "id": "e5e4c063-52f8-44a5-ac13-3dee3f705969",
   "metadata": {},
   "source": [
    "Go to Restart Kernel and Clear All Outputs to End the Server."
   ]
  },
  {
   "cell_type": "markdown",
   "id": "04f74864-6875-423b-bb50-65f674322166",
   "metadata": {},
   "source": [
    "## In a New Tab"
   ]
  },
  {
   "cell_type": "code",
   "execution_count": null,
   "id": "bd57656b-7883-47d2-8c18-32486124bb49",
   "metadata": {},
   "outputs": [],
   "source": [
    "# app.run_server(host='127.0.0.1', port='8050')"
   ]
  },
  {
   "cell_type": "markdown",
   "id": "ffeb5372-da2e-46e6-a2bc-fa04c7968b87",
   "metadata": {},
   "source": [
    "Go to Restart Kernel and Clear All Outputs to End the Server."
   ]
  }
 ],
 "metadata": {
  "kernelspec": {
   "display_name": "Python 3 (ipykernel)",
   "language": "python",
   "name": "python3"
  },
  "language_info": {
   "codemirror_mode": {
    "name": "ipython",
    "version": 3
   },
   "file_extension": ".py",
   "mimetype": "text/x-python",
   "name": "python",
   "nbconvert_exporter": "python",
   "pygments_lexer": "ipython3",
   "version": "3.9.13"
  }
 },
 "nbformat": 4,
 "nbformat_minor": 5
}
