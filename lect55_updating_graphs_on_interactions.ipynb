{
 "cells": [
  {
   "cell_type": "markdown",
   "id": "53a3de44-6591-4f7f-941e-e2801fdc186b",
   "metadata": {},
   "source": [
    "# Import Libraries"
   ]
  },
  {
   "cell_type": "code",
   "execution_count": null,
   "id": "956c2343-1a4c-4bc9-a541-bc89d5895e76",
   "metadata": {},
   "outputs": [],
   "source": [
    "import numpy as np\n",
    "import pandas as pd\n",
    "import plotly.graph_objs as go\n",
    "import plotly.offline as pyo\n",
    "from jupyter_dash import JupyterDash\n",
    "import dash\n",
    "from dash import dcc\n",
    "from dash import html\n",
    "from dash.dependencies import Input, Output, State\n",
    "import numpy.random as random\n",
    "random.seed(101)"
   ]
  },
  {
   "cell_type": "markdown",
   "id": "7799b5d5-ea78-49bd-b0cf-4e60ca4deef2",
   "metadata": {},
   "source": [
    "# Import Data"
   ]
  },
  {
   "cell_type": "code",
   "execution_count": null,
   "id": "c5f51cd3-9dd8-402f-bd76-dc5af7a41e60",
   "metadata": {},
   "outputs": [],
   "source": [
    "df = pd.read_csv(\"./data/mpg.csv\")\n",
    "df = df[df[\"horsepower\"].str.isnumeric()]\n",
    "df[\"horsepower\"] = df[\"horsepower\"].astype(float)\n",
    "jitter = random.randint(low=-4, high=5, size=len(df))*0.1\n",
    "df[\"year\"] = 1900 + df[\"model_year\"] + jitter\n",
    "df.head()"
   ]
  },
  {
   "cell_type": "markdown",
   "id": "9e58aa59-5afd-4dc5-ae98-8f5b3c0e01ce",
   "metadata": {},
   "source": [
    "# Create App"
   ]
  },
  {
   "cell_type": "code",
   "execution_count": null,
   "id": "8a7710b4-4ffc-40bb-80d8-ee3c84018876",
   "metadata": {},
   "outputs": [],
   "source": [
    "app = JupyterDash(__name__)"
   ]
  },
  {
   "cell_type": "markdown",
   "id": "bea731c2-400c-4867-886b-0e2e8127f7c6",
   "metadata": {},
   "source": [
    "# Modify App Layout\n",
    "\n",
    "Comment out only one of the cells in this section to run the Application with the selected App layout.\n",
    "\n",
    "Highlight the contents of the cell and use the shortcut key ```Ctrl``` + ```/``` to comment/uncomment all."
   ]
  },
  {
   "cell_type": "code",
   "execution_count": null,
   "id": "d6eb5d7d-8189-4722-aa18-72dc535dd168",
   "metadata": {},
   "outputs": [],
   "source": [
    "# data1 = [go.Scatter(x=df[\"year\"], y=df[\"mpg\"], text=df[\"name\"], hoverinfo= \"text+y+x\", mode=\"markers\")]\n",
    "# layout1 = go.Layout(title=\"MPG Data\", xaxis=dict(title= \"Model Year\"), yaxis=dict(title=\"MPG\"))\n",
    "# fig1 = go.Figure(data=data1, layout=layout1)\n",
    "\n",
    "# app.layout = html.Div([dcc.Graph(id=\"mpg-scatter\", figure=fig1)\n",
    "#                       ]\n",
    "#                      )"
   ]
  },
  {
   "cell_type": "code",
   "execution_count": null,
   "id": "d4503a1a-74ab-4e84-9dd8-ecd26efc3aa3",
   "metadata": {},
   "outputs": [],
   "source": [
    "# data1 = [go.Scatter(x=df[\"year\"], y=df[\"mpg\"], text=df[\"name\"], hoverinfo= \"text+y+x\", mode=\"markers\")]\n",
    "# layout1 = go.Layout(title=\"MPG Data\", xaxis=dict(title= \"Model Year\"), yaxis=dict(title=\"MPG\"), hovermode=\"closest\")\n",
    "# fig1 = go.Figure(data=data1, layout=layout1)\n",
    "\n",
    "# data2 = [go.Scatter(x=[0, 1], y=[0, 1], mode=\"lines\")]\n",
    "# layout2 = go.Layout(title=\"Acceleration\",\n",
    "#                     xaxis=dict(visible=False),\n",
    "#                     yaxis=dict(visible=False, range=[0,60/df[\"acceleration\"].min()]), \n",
    "#                     margin=dict(l=0), height=300)\n",
    "# fig2 = go.Figure(data=data2, layout=layout2)\n",
    "\n",
    "# app.layout = html.Div([html.Div(dcc.Graph(id=\"mpg-scatter\", figure=fig1), style={\"width\": \"50%\", \"display\": \"inline-block\"}),\n",
    "#                        html.Div(dcc.Graph(id=\"mpg-line\", figure=fig2),  style={\"width\": \"50%\", \"display\": \"inline-block\"})\n",
    "#                       ]\n",
    "#                      )\n",
    "\n",
    "# @app.callback(Output(\"mpg-line\", \"figure\"),\n",
    "#               Input(\"mpg-scatter\", \"hoverData\"))\n",
    "# def callback_graph(hoverData):\n",
    "#     if hoverData!=None:\n",
    "#         v_index = hoverData[\"points\"][0][\"pointIndex\"]\n",
    "#         data2 = [go.Scatter(x=[0, 1], y=[0, 60/df.iloc[v_index][\"acceleration\"]], mode=\"lines\")]\n",
    "#         layout2 = go.Layout(title=df.iloc[v_index][\"name\"], \n",
    "#                             xaxis=dict(visible=False), \n",
    "#                             yaxis=dict(visible=False, range=[0,60/df[\"acceleration\"].min()]), \n",
    "#                             margin=dict(l=0), height=300)\n",
    "#         fig2 = go.Figure(data=data2, layout=layout2)\n",
    "#         return fig2\n",
    "#     else:\n",
    "#         data2 = [go.Scatter(x=[0, 1], y=[0, 1], mode=\"lines\")]\n",
    "#         layout2 = go.Layout(title=\"Acceleration\",                             \n",
    "#                             xaxis=dict(visible=False), \n",
    "#                             yaxis=dict(visible=False, range=[0,60/df[\"acceleration\"].min()]), \n",
    "#                             margin=dict(l=0), height=300)\n",
    "#         fig2 = go.Figure(data=data2, layout=layout2)\n",
    "#         return fig2"
   ]
  },
  {
   "cell_type": "code",
   "execution_count": null,
   "id": "ea5f8445-97b1-4d40-a1e8-d861a62a8898",
   "metadata": {},
   "outputs": [],
   "source": [
    "data1 = [go.Scatter(x=df[\"year\"], y=df[\"mpg\"], text=df[\"name\"], hoverinfo= \"text+y+x\", mode=\"markers\")]\n",
    "layout1 = go.Layout(title=\"MPG Data\", xaxis=dict(title= \"Model Year\"), yaxis=dict(title=\"MPG\"), hovermode=\"closest\")\n",
    "fig1 = go.Figure(data=data1, layout=layout1)\n",
    "\n",
    "data2 = [go.Scatter(x=[0, 1], y=[0, 1], mode=\"lines\")]\n",
    "layout2 = go.Layout(title=\"Acceleration\",\n",
    "                    xaxis=dict(visible=False),\n",
    "                    yaxis=dict(visible=False, range=[0,60/df[\"acceleration\"].min()]), \n",
    "                    margin=dict(l=0), height=300)\n",
    "fig2 = go.Figure(data=data2, layout=layout2)\n",
    "\n",
    "app.layout = html.Div([html.Div(dcc.Graph(id=\"mpg-scatter\", figure=fig1), style={\"width\": \"50%\", \"display\": \"inline-block\", \n",
    "                                                                                 \"vertical-align\": \"middle\"}),\n",
    "                       html.Div(dcc.Graph(id=\"mpg-line\", figure=fig2),  style={\"width\": \"20%\", \"height\": \"50%\", \"display\": \"inline-block\",\n",
    "                                                                               \"vertical-align\": \"middle\"}),\n",
    "                       html.Div(dcc.Markdown(id=\"mpg-stats\"), style={\"width\": \"20%\", \"height\": \"50%\", \"display\": \"inline-block\",\n",
    "                                                                     \"vertical-align\": \"middle\"})\n",
    "                      ]\n",
    "                     )\n",
    "\n",
    "@app.callback(Output(\"mpg-line\", \"figure\"),\n",
    "              Input(\"mpg-scatter\", \"hoverData\"))\n",
    "def callback_graph(hoverData):\n",
    "    if hoverData!=None:\n",
    "        v_index = hoverData[\"points\"][0][\"pointIndex\"]\n",
    "        data2 = [go.Scatter(x=[0, 1], y=[0, 60/df.iloc[v_index][\"acceleration\"]], mode=\"lines\",\n",
    "                           line=dict(width=3*df.iloc[v_index][\"cylinders\"]))]\n",
    "        layout2 = go.Layout(title=df.iloc[v_index][\"name\"], \n",
    "                            xaxis=dict(visible=False), \n",
    "                            yaxis=dict(visible=False, range=[0,60/df[\"acceleration\"].min()]), \n",
    "                            margin=dict(l=0), height=300)\n",
    "        fig2 = go.Figure(data=data2, layout=layout2)\n",
    "        return fig2\n",
    "    else:\n",
    "        data2 = [go.Scatter(x=[0, 1], y=[0, 1], mode=\"lines\")]\n",
    "        layout2 = go.Layout(title=\"Acceleration\",                             \n",
    "                            xaxis=dict(visible=False), \n",
    "                            yaxis=dict(visible=False, range=[0,60/df[\"acceleration\"].min()]), \n",
    "                            margin=dict(l=0), height=300)\n",
    "        fig2 = go.Figure(data=data2, layout=layout2)\n",
    "        return fig2\n",
    "    \n",
    "@app.callback(Output(\"mpg-stats\", \"children\"),\n",
    "              Input(\"mpg-scatter\", \"hoverData\"))\n",
    "def callback_stats(hoverData):\n",
    "    if hoverData!=None:\n",
    "        v_index = hoverData[\"points\"][0][\"pointIndex\"]\n",
    "        stats = f\"\"\"\n",
    "                {df.iloc[v_index][\"cylinders\"]} cylinders\n",
    "                {df.iloc[v_index][\"displacement\"]} cc displacement\n",
    "                0 to 60 mph in {df.iloc[v_index][\"acceleration\"]} seconds\n",
    "        \"\"\"\n",
    "        return stats\n",
    "    else:\n",
    "        return \"No selection\"\n",
    "    "
   ]
  },
  {
   "cell_type": "markdown",
   "id": "13d7db77-9775-428a-8227-53063da61c0a",
   "metadata": {},
   "source": [
    "# Run App \n",
    "\n",
    "## In Cell"
   ]
  },
  {
   "cell_type": "code",
   "execution_count": null,
   "id": "e217df7d-51fd-405f-9ae9-ce42f8396430",
   "metadata": {},
   "outputs": [],
   "source": [
    "app.run_server(mode=\"inline\", height=650, host='127.0.0.1', port='8050')"
   ]
  },
  {
   "cell_type": "markdown",
   "id": "0bfad716-3517-44ef-8679-eaf5077ef296",
   "metadata": {},
   "source": [
    "Go to Restart Kernel and Clear All Outputs to End the Server."
   ]
  },
  {
   "cell_type": "markdown",
   "id": "92d36c85-f897-4b00-b8f9-ee7f0ecfce3e",
   "metadata": {},
   "source": [
    "## In a New Tab (Inside JupyterLab)"
   ]
  },
  {
   "cell_type": "code",
   "execution_count": null,
   "id": "b2c326b4-b53e-42fc-856f-6e49f8cc527c",
   "metadata": {},
   "outputs": [],
   "source": [
    "# app.run_server(mode=\"jupyterlab\")"
   ]
  },
  {
   "cell_type": "markdown",
   "id": "7796f90a-dbd7-45aa-9c4c-14b3d8ea13d7",
   "metadata": {},
   "source": [
    "Go to Restart Kernel and Clear All Outputs to End the Server."
   ]
  },
  {
   "cell_type": "markdown",
   "id": "baa1c96f-9beb-45ef-82bb-59af4f2fbf5b",
   "metadata": {},
   "source": [
    "## In a New Tab"
   ]
  },
  {
   "cell_type": "code",
   "execution_count": null,
   "id": "fd69ef0d-6c4d-4167-bd55-5e29195ec08f",
   "metadata": {},
   "outputs": [],
   "source": [
    "# app.run_server()"
   ]
  },
  {
   "cell_type": "markdown",
   "id": "0014ebe6-d61f-4897-8fd0-837f8de8c835",
   "metadata": {},
   "source": [
    "Go to Restart Kernel and Clear All Outputs to End the Server."
   ]
  }
 ],
 "metadata": {
  "kernelspec": {
   "display_name": "Python 3 (ipykernel)",
   "language": "python",
   "name": "python3"
  },
  "language_info": {
   "codemirror_mode": {
    "name": "ipython",
    "version": 3
   },
   "file_extension": ".py",
   "mimetype": "text/x-python",
   "name": "python",
   "nbconvert_exporter": "python",
   "pygments_lexer": "ipython3",
   "version": "3.10.6"
  }
 },
 "nbformat": 4,
 "nbformat_minor": 5
}
