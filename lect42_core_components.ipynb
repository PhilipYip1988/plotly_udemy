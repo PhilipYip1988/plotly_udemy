{
 "cells": [
  {
   "cell_type": "markdown",
   "id": "53a3de44-6591-4f7f-941e-e2801fdc186b",
   "metadata": {},
   "source": [
    "# Import Libraries"
   ]
  },
  {
   "cell_type": "code",
   "execution_count": null,
   "id": "956c2343-1a4c-4bc9-a541-bc89d5895e76",
   "metadata": {},
   "outputs": [],
   "source": [
    "from jupyter_dash import JupyterDash\n",
    "import dash\n",
    "from dash import dcc\n",
    "from dash import html"
   ]
  },
  {
   "cell_type": "markdown",
   "id": "9e58aa59-5afd-4dc5-ae98-8f5b3c0e01ce",
   "metadata": {},
   "source": [
    "# Create App"
   ]
  },
  {
   "cell_type": "code",
   "execution_count": null,
   "id": "8a7710b4-4ffc-40bb-80d8-ee3c84018876",
   "metadata": {},
   "outputs": [],
   "source": [
    "app = JupyterDash(__name__)"
   ]
  },
  {
   "cell_type": "markdown",
   "id": "bea731c2-400c-4867-886b-0e2e8127f7c6",
   "metadata": {},
   "source": [
    "# Modify App Layout\n",
    "\n",
    "Comment out only one of the cells in this section to run the Application with the selected App layout.\n",
    "\n",
    "Highlight the contents of the cell and use the shortcut key ```Ctrl``` + ```/``` to comment/uncomment all.\n",
    "\n",
    "## Dropdown"
   ]
  },
  {
   "cell_type": "code",
   "execution_count": null,
   "id": "d6eb5d7d-8189-4722-aa18-72dc535dd168",
   "metadata": {},
   "outputs": [],
   "source": [
    "# app.layout = html.Div(children=[\n",
    "#                                 html.Label(\"Dropdown\"),\n",
    "#                                 dcc.Dropdown(options=[{\"label\": \"New York City\", \"value\": \"NYC\"},\n",
    "#                                                       {\"label\": \"San Francisco\", \"value\": \"SF\"}],\n",
    "#                                              value=\"SF\")\n",
    "#                                 ]\n",
    "#                      )"
   ]
  },
  {
   "cell_type": "markdown",
   "id": "a171d569-8d1f-4c1a-ba53-4c1a58998b32",
   "metadata": {},
   "source": [
    "## Dropdown and Slider"
   ]
  },
  {
   "cell_type": "code",
   "execution_count": null,
   "id": "15363c73-f794-4855-96dd-1eaa4afab999",
   "metadata": {},
   "outputs": [],
   "source": [
    "# app.layout = html.Div(children=[\n",
    "#                                 html.Label(\"Dropdown\"),\n",
    "#                                 dcc.Dropdown(options=[{\"label\": \"New York City\", \"value\": \"NYC\"},\n",
    "#                                                       {\"label\": \"San Francisco\", \"value\": \"SF\"}],\n",
    "#                                              value=\"SF\"),\n",
    "#                                 html.Label(\"Slider\"),\n",
    "#                                 dcc.Slider(min=-10, max=10, step=0.5, value=0)\n",
    "#                                 ]\n",
    "#                      )"
   ]
  },
  {
   "cell_type": "markdown",
   "id": "7af43e00-a3a3-4825-824f-d4a7592d0701",
   "metadata": {},
   "source": [
    "## Dropdown and Slider with Slider Marks Specified"
   ]
  },
  {
   "cell_type": "code",
   "execution_count": null,
   "id": "af9fe361-4e5c-4841-be2e-cbae131b7906",
   "metadata": {},
   "outputs": [],
   "source": [
    "# app.layout = html.Div(children=[\n",
    "#                                 html.Label(\"Dropdown\"),\n",
    "#                                 dcc.Dropdown(options=[{\"label\": \"New York City\", \"value\": \"NYC\"},\n",
    "#                                                       {\"label\": \"San Francisco\", \"value\": \"SF\"}],\n",
    "#                                              value=\"SF\"),\n",
    "#                                 html.Label(\"Slider\"),\n",
    "#                                 dcc.Slider(min=-10, max=10, step=0.5, value=0, marks={i: str(i) for i in range(-10, 10)})\n",
    "#                                 ]\n",
    "#                      )"
   ]
  },
  {
   "cell_type": "markdown",
   "id": "8763d8d8-0330-46f5-9e08-ee79ef65fe73",
   "metadata": {},
   "source": [
    "## Dropdown, Slider and RadioItems"
   ]
  },
  {
   "cell_type": "code",
   "execution_count": null,
   "id": "e18f309b-2730-4348-bd2c-33fcb60fb80f",
   "metadata": {},
   "outputs": [],
   "source": [
    "# app.layout = html.Div(children=[\n",
    "#                                 html.Label(\"Dropdown\"),\n",
    "#                                 dcc.Dropdown(options=[{\"label\": \"New York City\", \"value\": \"NYC\"},\n",
    "#                                                       {\"label\": \"San Francisco\", \"value\": \"SF\"}],\n",
    "#                                              value=\"SF\"),\n",
    "#                                 html.Label(\"Slider\"),\n",
    "#                                 dcc.Slider(min=-10, max=10, step=0.5, value=0, marks={i: str(i) for i in range(-10, 10)}),\n",
    "#                                 html.Label(\"Some Radio Items\"),\n",
    "#                                 dcc.RadioItems(options=[{\"label\": \"New York City\", \"value\": \"NYC\"},\n",
    "#                                                         {\"label\": \"San Francisco\", \"value\": \"SF\"}], value=\"SF\")\n",
    "#                                 ]\n",
    "#                      )"
   ]
  },
  {
   "cell_type": "markdown",
   "id": "db077830-0379-4c48-b085-7838e83fac1f",
   "metadata": {},
   "source": [
    "## Dropdown, Slider and Radio Items with Paragraph Spacing"
   ]
  },
  {
   "cell_type": "code",
   "execution_count": null,
   "id": "995a531f-7481-4a2d-834f-28425ed80f8e",
   "metadata": {},
   "outputs": [],
   "source": [
    "# app.layout = html.Div(children=[\n",
    "#                                 html.P(html.Label(\"Dropdown\")),\n",
    "#                                 dcc.Dropdown(options=[{\"label\": \"New York City\", \"value\": \"NYC\"},\n",
    "#                                                       {\"label\": \"San Francisco\", \"value\": \"SF\"}],\n",
    "#                                              value=\"SF\"),\n",
    "#                                 html.P(html.Label(\"Slider\")),\n",
    "#                                 dcc.Slider(min=-10, max=10, step=0.5, value=0, marks={i: str(i) for i in range(-10, 10)}),\n",
    "#                                 html.P(html.Label(\"Some Radio Items\")),\n",
    "#                                 dcc.RadioItems(options=[{\"label\": \"New York City\", \"value\": \"NYC\"},\n",
    "#                                                         {\"label\": \"San Francisco\", \"value\": \"SF\"}], value=\"SF\")\n",
    "#                                 ]\n",
    "#                      )"
   ]
  },
  {
   "cell_type": "markdown",
   "id": "4b3ab517-fd0d-4870-bf25-afdd63f42faa",
   "metadata": {},
   "source": [
    "### Dropdown, Slider, Radio Items and Markdown"
   ]
  },
  {
   "cell_type": "code",
   "execution_count": null,
   "id": "c3438700-fb4a-44c9-9717-c56138525103",
   "metadata": {},
   "outputs": [],
   "source": [
    "markdown_text = '''\n",
    "### Dash and Markdown\n",
    "Dash apps can be written in Markdown. For more details about Markdown syntax see \n",
    "[Markdown Tutorial](https://github.com/PhilipYip1988/python-tutorials/tree/main/002_markdown)\n",
    "'''\n",
    "\n",
    "app.layout = html.Div(children=[\n",
    "                                html.P(html.Label(\"Dropdown\")),\n",
    "                                dcc.Dropdown(options=[{\"label\": \"New York City\", \"value\": \"NYC\"},\n",
    "                                                      {\"label\": \"San Francisco\", \"value\": \"SF\"}],\n",
    "                                             value=\"SF\"),\n",
    "                                html.P(html.Label(\"Slider\")),\n",
    "                                dcc.Slider(min=-10, max=10, step=0.5, value=0, marks={i: str(i) for i in range(-10, 10)}),\n",
    "                                html.P(html.Label(\"Some Radio Items\")),\n",
    "                                dcc.RadioItems(options=[{\"label\": \"New York City\", \"value\": \"NYC\"},\n",
    "                                                        {\"label\": \"San Francisco\", \"value\": \"SF\"}], value=\"SF\"),\n",
    "                                html.P(dcc.Markdown(children=markdown_text))]\n",
    "                     )"
   ]
  },
  {
   "cell_type": "markdown",
   "id": "13d7db77-9775-428a-8227-53063da61c0a",
   "metadata": {},
   "source": [
    "# Run App \n",
    "\n",
    "## In Cell"
   ]
  },
  {
   "cell_type": "code",
   "execution_count": null,
   "id": "e217df7d-51fd-405f-9ae9-ce42f8396430",
   "metadata": {},
   "outputs": [],
   "source": [
    "app.run_server(mode=\"inline\", height=650, host='127.0.0.1', port='8050')"
   ]
  },
  {
   "cell_type": "markdown",
   "id": "0bfad716-3517-44ef-8679-eaf5077ef296",
   "metadata": {},
   "source": [
    "Go to Restart Kernel and Clear All Outputs to End the Server."
   ]
  },
  {
   "cell_type": "markdown",
   "id": "92d36c85-f897-4b00-b8f9-ee7f0ecfce3e",
   "metadata": {},
   "source": [
    "## In a New Tab (Inside JupyterLab)"
   ]
  },
  {
   "cell_type": "code",
   "execution_count": null,
   "id": "b2c326b4-b53e-42fc-856f-6e49f8cc527c",
   "metadata": {},
   "outputs": [],
   "source": [
    "# app.run_server(mode=\"jupyterlab\")"
   ]
  },
  {
   "cell_type": "markdown",
   "id": "7796f90a-dbd7-45aa-9c4c-14b3d8ea13d7",
   "metadata": {},
   "source": [
    "Go to Restart Kernel and Clear All Outputs to End the Server."
   ]
  },
  {
   "cell_type": "markdown",
   "id": "baa1c96f-9beb-45ef-82bb-59af4f2fbf5b",
   "metadata": {},
   "source": [
    "## In a New Tab"
   ]
  },
  {
   "cell_type": "code",
   "execution_count": null,
   "id": "fd69ef0d-6c4d-4167-bd55-5e29195ec08f",
   "metadata": {},
   "outputs": [],
   "source": [
    "# app.run_server()"
   ]
  },
  {
   "cell_type": "markdown",
   "id": "0014ebe6-d61f-4897-8fd0-837f8de8c835",
   "metadata": {},
   "source": [
    "Go to Restart Kernel and Clear All Outputs to End the Server."
   ]
  }
 ],
 "metadata": {
  "kernelspec": {
   "display_name": "Python 3 (ipykernel)",
   "language": "python",
   "name": "python3"
  },
  "language_info": {
   "codemirror_mode": {
    "name": "ipython",
    "version": 3
   },
   "file_extension": ".py",
   "mimetype": "text/x-python",
   "name": "python",
   "nbconvert_exporter": "python",
   "pygments_lexer": "ipython3",
   "version": "3.9.13"
  }
 },
 "nbformat": 4,
 "nbformat_minor": 5
}
