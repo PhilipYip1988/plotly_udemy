{
 "cells": [
  {
   "cell_type": "markdown",
   "id": "0ca0859f-2ce3-435e-9418-705e8f776489",
   "metadata": {},
   "source": [
    "# Import Data Science Libraries"
   ]
  },
  {
   "cell_type": "code",
   "execution_count": 1,
   "id": "2e477e1e-06ba-4c3b-aaf0-7547e9badf4b",
   "metadata": {},
   "outputs": [],
   "source": [
    "from jupyter_dash import JupyterDash\n",
    "import dash\n",
    "from dash import dcc\n",
    "from dash import html"
   ]
  },
  {
   "cell_type": "markdown",
   "id": "b626e68a-b6ec-4905-831b-e85c48a482e7",
   "metadata": {},
   "source": [
    "# View DocString as popup balloon"
   ]
  },
  {
   "cell_type": "markdown",
   "id": "f9f6ce4f-37b0-4f45-94c5-2a717abcca2f",
   "metadata": {},
   "source": [
    "Input ```html.Div``` followed by a shift ```⇧``` and tab ```↹```. This will open up the docstring as a popup balloon:"
   ]
  },
  {
   "cell_type": "code",
   "execution_count": null,
   "id": "388d156a-c827-425e-b05f-e3d54f35451d",
   "metadata": {},
   "outputs": [],
   "source": [
    "html.Div"
   ]
  },
  {
   "cell_type": "markdown",
   "id": "8ce2e5fc-0646-44aa-b8f9-947be428e7d4",
   "metadata": {},
   "source": [
    "# View DocString as Cell Output"
   ]
  },
  {
   "cell_type": "markdown",
   "id": "a8809254-5219-4cb4-a483-8975f50dd13d",
   "metadata": {},
   "source": [
    "To output the docstring to a cell use:"
   ]
  },
  {
   "cell_type": "code",
   "execution_count": 2,
   "id": "9bc65600-c6ca-475b-828c-8305a451ece7",
   "metadata": {
    "scrolled": true,
    "tags": []
   },
   "outputs": [
    {
     "data": {
      "text/plain": [
       "\u001b[1;31mInit signature:\u001b[0m\n",
       " \u001b[0mhtml\u001b[0m\u001b[1;33m.\u001b[0m\u001b[0mDiv\u001b[0m\u001b[1;33m(\u001b[0m\u001b[1;33m\n",
       "\u001b[0m    \u001b[0mchildren\u001b[0m\u001b[1;33m=\u001b[0m\u001b[1;32mNone\u001b[0m\u001b[1;33m,\u001b[0m\u001b[1;33m\n",
       "\u001b[0m    \u001b[0mid\u001b[0m\u001b[1;33m=\u001b[0m\u001b[0mundefined\u001b[0m\u001b[1;33m,\u001b[0m\u001b[1;33m\n",
       "\u001b[0m    \u001b[0mn_clicks\u001b[0m\u001b[1;33m=\u001b[0m\u001b[0mundefined\u001b[0m\u001b[1;33m,\u001b[0m\u001b[1;33m\n",
       "\u001b[0m    \u001b[0mn_clicks_timestamp\u001b[0m\u001b[1;33m=\u001b[0m\u001b[0mundefined\u001b[0m\u001b[1;33m,\u001b[0m\u001b[1;33m\n",
       "\u001b[0m    \u001b[0mkey\u001b[0m\u001b[1;33m=\u001b[0m\u001b[0mundefined\u001b[0m\u001b[1;33m,\u001b[0m\u001b[1;33m\n",
       "\u001b[0m    \u001b[0maccessKey\u001b[0m\u001b[1;33m=\u001b[0m\u001b[0mundefined\u001b[0m\u001b[1;33m,\u001b[0m\u001b[1;33m\n",
       "\u001b[0m    \u001b[0mclassName\u001b[0m\u001b[1;33m=\u001b[0m\u001b[0mundefined\u001b[0m\u001b[1;33m,\u001b[0m\u001b[1;33m\n",
       "\u001b[0m    \u001b[0mcontentEditable\u001b[0m\u001b[1;33m=\u001b[0m\u001b[0mundefined\u001b[0m\u001b[1;33m,\u001b[0m\u001b[1;33m\n",
       "\u001b[0m    \u001b[0mcontextMenu\u001b[0m\u001b[1;33m=\u001b[0m\u001b[0mundefined\u001b[0m\u001b[1;33m,\u001b[0m\u001b[1;33m\n",
       "\u001b[0m    \u001b[0mdir\u001b[0m\u001b[1;33m=\u001b[0m\u001b[0mundefined\u001b[0m\u001b[1;33m,\u001b[0m\u001b[1;33m\n",
       "\u001b[0m    \u001b[0mdraggable\u001b[0m\u001b[1;33m=\u001b[0m\u001b[0mundefined\u001b[0m\u001b[1;33m,\u001b[0m\u001b[1;33m\n",
       "\u001b[0m    \u001b[0mhidden\u001b[0m\u001b[1;33m=\u001b[0m\u001b[0mundefined\u001b[0m\u001b[1;33m,\u001b[0m\u001b[1;33m\n",
       "\u001b[0m    \u001b[0mlang\u001b[0m\u001b[1;33m=\u001b[0m\u001b[0mundefined\u001b[0m\u001b[1;33m,\u001b[0m\u001b[1;33m\n",
       "\u001b[0m    \u001b[0mrole\u001b[0m\u001b[1;33m=\u001b[0m\u001b[0mundefined\u001b[0m\u001b[1;33m,\u001b[0m\u001b[1;33m\n",
       "\u001b[0m    \u001b[0mspellCheck\u001b[0m\u001b[1;33m=\u001b[0m\u001b[0mundefined\u001b[0m\u001b[1;33m,\u001b[0m\u001b[1;33m\n",
       "\u001b[0m    \u001b[0mstyle\u001b[0m\u001b[1;33m=\u001b[0m\u001b[0mundefined\u001b[0m\u001b[1;33m,\u001b[0m\u001b[1;33m\n",
       "\u001b[0m    \u001b[0mtabIndex\u001b[0m\u001b[1;33m=\u001b[0m\u001b[0mundefined\u001b[0m\u001b[1;33m,\u001b[0m\u001b[1;33m\n",
       "\u001b[0m    \u001b[0mtitle\u001b[0m\u001b[1;33m=\u001b[0m\u001b[0mundefined\u001b[0m\u001b[1;33m,\u001b[0m\u001b[1;33m\n",
       "\u001b[0m    \u001b[0mloading_state\u001b[0m\u001b[1;33m=\u001b[0m\u001b[0mundefined\u001b[0m\u001b[1;33m,\u001b[0m\u001b[1;33m\n",
       "\u001b[0m    \u001b[1;33m**\u001b[0m\u001b[0mkwargs\u001b[0m\u001b[1;33m,\u001b[0m\u001b[1;33m\n",
       "\u001b[0m\u001b[1;33m)\u001b[0m\u001b[1;33m\u001b[0m\u001b[1;33m\u001b[0m\u001b[0m\n",
       "\u001b[1;31mDocstring:\u001b[0m     \n",
       "A Div component.\n",
       "Div is a wrapper for the <div> HTML5 element.\n",
       "For detailed attribute info see:\n",
       "https://developer.mozilla.org/en-US/docs/Web/HTML/Element/div\n",
       "\n",
       "Keyword arguments:\n",
       "\n",
       "- children (a list of or a singular dash component, string or number; optional):\n",
       "    The children of this component.\n",
       "\n",
       "- id (string; optional):\n",
       "    The ID of this component, used to identify dash components in\n",
       "    callbacks. The ID needs to be unique across all of the components\n",
       "    in an app.\n",
       "\n",
       "- accessKey (string; optional):\n",
       "    Keyboard shortcut to activate or add focus to the element.\n",
       "\n",
       "- aria-* (string; optional):\n",
       "    A wildcard aria attribute.\n",
       "\n",
       "- className (string; optional):\n",
       "    Often used with CSS to style elements with common properties.\n",
       "\n",
       "- contentEditable (string; optional):\n",
       "    Indicates whether the element's content is editable.\n",
       "\n",
       "- contextMenu (string; optional):\n",
       "    Defines the ID of a <menu> element which will serve as the\n",
       "    element's context menu.\n",
       "\n",
       "- data-* (string; optional):\n",
       "    A wildcard data attribute.\n",
       "\n",
       "- dir (string; optional):\n",
       "    Defines the text direction. Allowed values are ltr (Left-To-Right)\n",
       "    or rtl (Right-To-Left).\n",
       "\n",
       "- draggable (string; optional):\n",
       "    Defines whether the element can be dragged.\n",
       "\n",
       "- hidden (a value equal to: 'hidden', 'HIDDEN' | boolean; optional):\n",
       "    Prevents rendering of given element, while keeping child elements,\n",
       "    e.g. script elements, active.\n",
       "\n",
       "- key (string; optional):\n",
       "    A unique identifier for the component, used to improve performance\n",
       "    by React.js while rendering components See\n",
       "    https://reactjs.org/docs/lists-and-keys.html for more info.\n",
       "\n",
       "- lang (string; optional):\n",
       "    Defines the language used in the element.\n",
       "\n",
       "- loading_state (dict; optional):\n",
       "    Object that holds the loading state object coming from\n",
       "    dash-renderer.\n",
       "\n",
       "    `loading_state` is a dict with keys:\n",
       "\n",
       "    - component_name (string; optional):\n",
       "        Holds the name of the component that is loading.\n",
       "\n",
       "    - is_loading (boolean; optional):\n",
       "        Determines if the component is loading or not.\n",
       "\n",
       "    - prop_name (string; optional):\n",
       "        Holds which property is loading.\n",
       "\n",
       "- n_clicks (number; default 0):\n",
       "    An integer that represents the number of times that this element\n",
       "    has been clicked on.\n",
       "\n",
       "- n_clicks_timestamp (number; default -1):\n",
       "    An integer that represents the time (in ms since 1970) at which\n",
       "    n_clicks changed. This can be used to tell which button was\n",
       "    changed most recently.\n",
       "\n",
       "- role (string; optional):\n",
       "    Defines an explicit role for an element for use by assistive\n",
       "    technologies.\n",
       "\n",
       "- spellCheck (string; optional):\n",
       "    Indicates whether spell checking is allowed for the element.\n",
       "\n",
       "- style (dict; optional):\n",
       "    Defines CSS styles which will override styles previously set.\n",
       "\n",
       "- tabIndex (string; optional):\n",
       "    Overrides the browser's default tab order and follows the one\n",
       "    specified instead.\n",
       "\n",
       "- title (string; optional):\n",
       "    Text to be displayed in a tooltip when hovering over the element.\n",
       "\u001b[1;31mFile:\u001b[0m           c:\\users\\phili\\anaconda3\\lib\\site-packages\\dash\\html\\div.py\n",
       "\u001b[1;31mType:\u001b[0m           ComponentMeta\n",
       "\u001b[1;31mSubclasses:\u001b[0m     \n"
      ]
     },
     "metadata": {},
     "output_type": "display_data"
    }
   ],
   "source": [
    "? html.Div"
   ]
  }
 ],
 "metadata": {
  "kernelspec": {
   "display_name": "Python 3 (ipykernel)",
   "language": "python",
   "name": "python3"
  },
  "language_info": {
   "codemirror_mode": {
    "name": "ipython",
    "version": 3
   },
   "file_extension": ".py",
   "mimetype": "text/x-python",
   "name": "python",
   "nbconvert_exporter": "python",
   "pygments_lexer": "ipython3",
   "version": "3.9.13"
  }
 },
 "nbformat": 4,
 "nbformat_minor": 5
}
