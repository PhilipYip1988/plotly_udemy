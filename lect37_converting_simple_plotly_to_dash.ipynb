{
 "cells": [
  {
   "cell_type": "markdown",
   "id": "c9ef5ead-5c28-46c6-987f-0a17d82786df",
   "metadata": {},
   "source": [
    "# Import Data Science Libraries"
   ]
  },
  {
   "cell_type": "code",
   "execution_count": null,
   "id": "4f1d8ad1-59c0-4df1-8a98-5fccc43aca43",
   "metadata": {},
   "outputs": [],
   "source": [
    "import numpy as np\n",
    "from jupyter_dash import JupyterDash\n",
    "import dash\n",
    "from dash import dcc\n",
    "from dash import html\n",
    "import plotly.graph_objs as go\n",
    "import numpy.random as random\n",
    "random.seed(101)"
   ]
  },
  {
   "cell_type": "markdown",
   "id": "a4954b31-8262-45f7-adfd-219b6d0c00ec",
   "metadata": {},
   "source": [
    "# Create App"
   ]
  },
  {
   "cell_type": "code",
   "execution_count": null,
   "id": "85419a92-47b2-4322-8d5e-729d42f4865b",
   "metadata": {},
   "outputs": [],
   "source": [
    "app = JupyterDash(__name__)"
   ]
  },
  {
   "cell_type": "markdown",
   "id": "bf2701ab-5c6d-4454-b23d-a3c68a6b8cec",
   "metadata": {},
   "source": [
    "# Create Random Data"
   ]
  },
  {
   "cell_type": "code",
   "execution_count": null,
   "id": "d66a6900-3969-4512-9273-0e27fb499d73",
   "metadata": {},
   "outputs": [],
   "source": [
    "random_x = random.randint(low=1, high=101, size=100)\n",
    "random_y = random.randint(low=1, high=101, size=100)"
   ]
  },
  {
   "cell_type": "markdown",
   "id": "5f701d5b-04f3-481b-986f-2893a805623d",
   "metadata": {},
   "source": [
    "# Modify App Layout\n",
    "\n",
    "plotly syntax can be used within the app layout directly.\n",
    "\n",
    "Comment out only one of the cells in this section to run the Application with the selected App layout.\n",
    "\n",
    "Highlight the contents of the cell and use the shortcut key ```Ctrl``` + ```/``` to comment/uncomment all."
   ]
  },
  {
   "cell_type": "markdown",
   "id": "ad3d1813-8f0d-4324-ada0-912663948c68",
   "metadata": {},
   "source": [
    "### One Graph No Styling"
   ]
  },
  {
   "cell_type": "markdown",
   "id": "aba4d739-efc9-4899-9a59-e6fbb652a0c7",
   "metadata": {},
   "source": [
    "It is possible to use plotly graph objects directly within the app layout.\n",
    "\n",
    "Uncomment and pay attention to the embedded collections and ensure each sets of brackets match."
   ]
  },
  {
   "cell_type": "code",
   "execution_count": null,
   "id": "77e86e3f-aa61-4b87-aef6-18741c215cdd",
   "metadata": {},
   "outputs": [],
   "source": [
    "# app.layout = html.Div([dcc.Graph(id=\"scatterplot\",\n",
    "#                                 figure = {\"data\": [\n",
    "#                                                 go.Scatter(x=random_x, y=random_y, mode=\"markers\")\n",
    "#                                                   ],\n",
    "#                                          \"layout\": go.Layout(title=\"My Scatterplot\")}\n",
    "#                                 )])"
   ]
  },
  {
   "cell_type": "markdown",
   "id": "83b44647-5257-492f-9c48-90158aef846b",
   "metadata": {},
   "source": [
    "### One Graph with Styling"
   ]
  },
  {
   "cell_type": "markdown",
   "id": "7b738987-e4b8-482c-b3c3-a4527dd097a6",
   "metadata": {},
   "source": [
    "When styling the syntax becomes more complicated.\n",
    "\n",
    "Uncomment and pay attention to the embeddded collections and ensure each sets of brackets match."
   ]
  },
  {
   "cell_type": "code",
   "execution_count": null,
   "id": "a3993012-5b20-460e-9439-644af6d8d2f7",
   "metadata": {},
   "outputs": [],
   "source": [
    "# app.layout = html.Div([dcc.Graph(id=\"scatterplot\",\n",
    "#                                 figure = {\"data\": [\n",
    "#                                                 go.Scatter(x=random_x, y=random_y, mode=\"markers\",\n",
    "#                                                           marker={\n",
    "#                                                                       \"size\": 12,\n",
    "#                                                                       \"color\": \"rgb(51, 204, 153)\",\n",
    "#                                                                       \"symbol\": \"pentagon\",\n",
    "#                                                                       \"line\": {\"width\": 2}\n",
    "#                                                                   }\n",
    "#                                                           )\n",
    "#                                                   ],\n",
    "#                                          \"layout\": go.Layout(\n",
    "#                                                                  title=\"My Scatterplot\",\n",
    "#                                                                  xaxis={\"title\": \"x values\"}\n",
    "#                                                              )\n",
    "#                                          }\n",
    "#                                 )\n",
    "#                       ]"
   ]
  },
  {
   "cell_type": "markdown",
   "id": "582123d1-454d-4b2a-aa2f-1d2f66164f02",
   "metadata": {},
   "source": [
    "### Two Graphs with Styling"
   ]
  },
  {
   "cell_type": "markdown",
   "id": "b7abee57-8e74-4083-b51b-1479031a9b15",
   "metadata": {},
   "source": [
    "Examine a more complicated example with 2 graph objects.\n",
    "\n",
    "Uncomment and pay attention to the embeddded collections and ensure each sets of brackets match."
   ]
  },
  {
   "cell_type": "code",
   "execution_count": null,
   "id": "139dc519-7871-43c7-90bd-7a1cee9f38db",
   "metadata": {},
   "outputs": [],
   "source": [
    "# app.layout = html.Div([dcc.Graph(id=\"scatterplot\",\n",
    "#                                 figure = {\"data\": [\n",
    "#                                                 go.Scatter(x=random_x, y=random_y, mode=\"markers\",\n",
    "#                                                           marker={\n",
    "#                                                                       \"size\": 12,\n",
    "#                                                                       \"color\": \"rgb(51, 204, 153)\",\n",
    "#                                                                       \"symbol\": \"pentagon\",\n",
    "#                                                                       \"line\": {\"width\": 2}\n",
    "#                                                                   }\n",
    "#                                                           )\n",
    "#                                                   ],\n",
    "#                                          \"layout\": go.Layout(\n",
    "#                                                                  title=\"My Scatterplot\",\n",
    "#                                                                  xaxis={\"title\": \"x values\"}\n",
    "#                                                              )\n",
    "#                                          }\n",
    "#                                 ),\n",
    "#                        dcc.Graph(id=\"scatterplot2\",\n",
    "#                                 figure = {\"data\": [\n",
    "#                                                 go.Scatter(x=random_x, y=random_y, mode=\"markers\",\n",
    "#                                                           marker={\n",
    "#                                                                       \"size\": 12,\n",
    "#                                                                       \"color\": \"rgb(200, 204, 53)\",\n",
    "#                                                                       \"symbol\": \"pentagon\",\n",
    "#                                                                       \"line\": {\"width\": 2}\n",
    "#                                                                   }\n",
    "#                                                           )\n",
    "#                                                   ],\n",
    "#                                          \"layout\": go.Layout(\n",
    "#                                                                  title=\"My Scatterplot 2\",\n",
    "#                                                                  xaxis={\"title\": \"x values\"}\n",
    "#                                                              )\n",
    "#                                          }\n",
    "#                                 )\n",
    "                      \n",
    "#                       ]\n",
    "#                      )"
   ]
  },
  {
   "cell_type": "markdown",
   "id": "323af95d-c9c3-4859-a04e-b9745d77804e",
   "metadata": {},
   "source": [
    "The code is more readible when the figures are created seperately and then inserted into the layout:"
   ]
  },
  {
   "cell_type": "code",
   "execution_count": null,
   "id": "224dd3c9-f63d-4bcd-b1db-73120a033693",
   "metadata": {},
   "outputs": [],
   "source": [
    "# create fig 1\n",
    "data1 = [go.Scatter(x=random_x, y=random_y, mode=\"markers\",\n",
    "                    marker=dict(size=12, color=\"rgb(51, 204, 153)\", symbol=\"pentagon\", line=dict(width=2)))]\n",
    "\n",
    "layout1 = go.Layout(title=\"My Scatterplot 1\", xaxis=dict(title=\"x values\"))\n",
    "\n",
    "fig1 = go.Figure(data=data1, layout=layout1)\n",
    "\n",
    "# create fig2\n",
    "data2 = [go.Scatter(x=random_x, y=random_y, mode=\"markers\",\n",
    "                    marker=dict(size=12, color=\"rgb(200, 204, 53)\", symbol=\"pentagon\", line=dict(width=2)))]\n",
    "\n",
    "layout2 = go.Layout(title=\"My Scatterplot 2\", xaxis=dict(title=\"x values\"))\n",
    "\n",
    "fig2 = go.Figure(data=data2, layout=layout2)\n",
    "\n",
    "# create layout\n",
    "app.layout = html.Div([\n",
    "                        dcc.Graph(id=\"scatterplot1\", figure=fig1),\n",
    "                        dcc.Graph(id=\"scatterplot2\", figure=fig2)\n",
    "                      ]\n",
    "                     )\n",
    "                       "
   ]
  },
  {
   "cell_type": "markdown",
   "id": "89b94483-e7da-4338-be1d-06a382bba531",
   "metadata": {},
   "source": [
    "# Run App Server as Cell\n",
    "\n",
    "## In Cell"
   ]
  },
  {
   "cell_type": "code",
   "execution_count": null,
   "id": "dada5b36-96b9-4ef1-971e-56c28bbfdb6d",
   "metadata": {},
   "outputs": [],
   "source": [
    "app.run_server(mode=\"inline\", height=850, host='127.0.0.1', port='8050')"
   ]
  },
  {
   "cell_type": "markdown",
   "id": "7056a4e6-0275-425d-89be-b1817962ccae",
   "metadata": {},
   "source": [
    "Go to Restart Kernel and Clear All Outputs to End the Server."
   ]
  },
  {
   "cell_type": "markdown",
   "id": "8432ead2-ca23-4cc4-a00b-04b6d11f8ec9",
   "metadata": {},
   "source": [
    "## In a New Tab (Inside JupyterLab)"
   ]
  },
  {
   "cell_type": "code",
   "execution_count": null,
   "id": "1ae89c2b-c410-4696-a403-4ad3517267ce",
   "metadata": {},
   "outputs": [],
   "source": [
    "# app.run_server(mode=\"jupyterlab\", host='127.0.0.1', port='8050')"
   ]
  },
  {
   "cell_type": "markdown",
   "id": "623556ad-a2cf-4cd7-9cbe-08ffdca7581a",
   "metadata": {},
   "source": [
    "Go to Restart Kernel and Clear All Outputs to End the Server."
   ]
  },
  {
   "cell_type": "markdown",
   "id": "c121c915-1d30-4dca-be4c-ec6a0e571c29",
   "metadata": {},
   "source": [
    "## In a New Tab"
   ]
  },
  {
   "cell_type": "code",
   "execution_count": null,
   "id": "30a3f77b-ab33-461d-b211-c05befd9172d",
   "metadata": {},
   "outputs": [],
   "source": [
    "# app.run_server(host='127.0.0.1', port='8050')"
   ]
  },
  {
   "cell_type": "markdown",
   "id": "e0db6f72-fbb5-4a97-9c2e-14bd986db255",
   "metadata": {},
   "source": [
    "Go to Restart Kernel and Clear All Outputs to End the Server."
   ]
  }
 ],
 "metadata": {
  "kernelspec": {
   "display_name": "Python 3 (ipykernel)",
   "language": "python",
   "name": "python3"
  },
  "language_info": {
   "codemirror_mode": {
    "name": "ipython",
    "version": 3
   },
   "file_extension": ".py",
   "mimetype": "text/x-python",
   "name": "python",
   "nbconvert_exporter": "python",
   "pygments_lexer": "ipython3",
   "version": "3.9.13"
  }
 },
 "nbformat": 4,
 "nbformat_minor": 5
}
