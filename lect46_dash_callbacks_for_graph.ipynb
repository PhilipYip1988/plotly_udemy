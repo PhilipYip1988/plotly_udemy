{
 "cells": [
  {
   "cell_type": "markdown",
   "id": "53a3de44-6591-4f7f-941e-e2801fdc186b",
   "metadata": {},
   "source": [
    "# Import Libraries"
   ]
  },
  {
   "cell_type": "code",
   "execution_count": null,
   "id": "956c2343-1a4c-4bc9-a541-bc89d5895e76",
   "metadata": {},
   "outputs": [],
   "source": [
    "import numpy as np\n",
    "import pandas as pd\n",
    "import plotly.graph_objs as go\n",
    "import plotly.offline as pyo\n",
    "from jupyter_dash import JupyterDash\n",
    "import dash\n",
    "from dash import dcc\n",
    "from dash import html\n",
    "from dash.dependencies import Input, Output"
   ]
  },
  {
   "cell_type": "markdown",
   "id": "bbe67eab-ccaf-4ca0-89dd-e86df087afde",
   "metadata": {},
   "source": [
    "# Import Data"
   ]
  },
  {
   "cell_type": "code",
   "execution_count": null,
   "id": "1f5d45c3-7bdb-444d-b751-627592497675",
   "metadata": {},
   "outputs": [],
   "source": [
    "df = pd.read_csv(\"./data/gapminderDataFiveYear.csv\")\n",
    "df.head()"
   ]
  },
  {
   "cell_type": "markdown",
   "id": "9e58aa59-5afd-4dc5-ae98-8f5b3c0e01ce",
   "metadata": {},
   "source": [
    "# Create App"
   ]
  },
  {
   "cell_type": "code",
   "execution_count": null,
   "id": "8a7710b4-4ffc-40bb-80d8-ee3c84018876",
   "metadata": {},
   "outputs": [],
   "source": [
    "app = JupyterDash(__name__)"
   ]
  },
  {
   "cell_type": "markdown",
   "id": "bea731c2-400c-4867-886b-0e2e8127f7c6",
   "metadata": {},
   "source": [
    "# Change App Layout"
   ]
  },
  {
   "cell_type": "markdown",
   "id": "4f64d178-7f59-426d-8085-975b85fe1d80",
   "metadata": {},
   "source": [
    "The app will have a graph and a dropdown. For the dropdown we need to specify a list of values to dropdown from. Each item in the list should be a dictionary with a label and value:"
   ]
  },
  {
   "cell_type": "code",
   "execution_count": null,
   "id": "5166fd81-3abe-478b-821a-874d40394f9c",
   "metadata": {},
   "outputs": [],
   "source": [
    "year_options = []\n",
    "for year in df[\"year\"].unique():\n",
    "    year_options.append({\"label\": str(year), \"value\":year})\n",
    "    \n",
    "year_options"
   ]
  },
  {
   "cell_type": "code",
   "execution_count": null,
   "id": "182cc045-99c7-459f-8115-f645fcadc273",
   "metadata": {},
   "outputs": [],
   "source": [
    "app.layout = html.Div([\n",
    "                      dcc.Graph(id=\"graph\"),\n",
    "                      dcc.Dropdown(id=\"year-picker\", options=year_options, value=df[\"year\"].min())\n",
    "                      ]\n",
    "                     )"
   ]
  },
  {
   "cell_type": "code",
   "execution_count": null,
   "id": "a12f638c-df58-44a6-a30b-9a1b66063b58",
   "metadata": {},
   "outputs": [],
   "source": [
    "@app.callback(\n",
    "                Output(\"graph\", \"figure\"), \n",
    "                [Input(\"year-picker\", \"value\")]\n",
    "             )\n",
    "def update_figure(selected_year):\n",
    "    # Data only for selected year from Dropdown\n",
    "    filtered_df = df[df[\"year\"] == selected_year]\n",
    "    \n",
    "    traces = []\n",
    "    \n",
    "    for continent_name in filtered_df[\"continent\"].unique():\n",
    "        df_by_continent = filtered_df[filtered_df[\"continent\"] == continent_name]\n",
    "        traces.append(go.Scatter(\n",
    "            x=df_by_continent[\"gdpPercap\"],\n",
    "            y=df_by_continent[\"lifeExp\"],\n",
    "            text=df_by_continent[\"country\"],\n",
    "            name=continent_name,\n",
    "            mode=\"markers\",\n",
    "            opacity=0.7,\n",
    "            marker=dict(size=17)\n",
    "                                )\n",
    "                     )\n",
    "    \n",
    "    data = traces\n",
    "    \n",
    "    layout=go.Layout(title=\"Annual Life Expectancy as a function of GDP per capita\",\n",
    "                     xaxis = dict(title = \"GDP per Capita\", type=\"log\"),\n",
    "                     yaxis = dict(title = \"Life Expectancy\"),\n",
    "                     )\n",
    "    \n",
    "    figure = go.Figure(data=data, layout=layout)\n",
    "        \n",
    "    return figure"
   ]
  },
  {
   "cell_type": "markdown",
   "id": "13d7db77-9775-428a-8227-53063da61c0a",
   "metadata": {},
   "source": [
    "# Run App \n",
    "\n",
    "## In Cell"
   ]
  },
  {
   "cell_type": "code",
   "execution_count": null,
   "id": "e217df7d-51fd-405f-9ae9-ce42f8396430",
   "metadata": {},
   "outputs": [],
   "source": [
    "app.run_server(mode=\"inline\", height=650, host='127.0.0.1', port='8050')"
   ]
  },
  {
   "cell_type": "markdown",
   "id": "0bfad716-3517-44ef-8679-eaf5077ef296",
   "metadata": {},
   "source": [
    "Go to Restart Kernel and Clear All Outputs to End the Server."
   ]
  },
  {
   "cell_type": "markdown",
   "id": "92d36c85-f897-4b00-b8f9-ee7f0ecfce3e",
   "metadata": {},
   "source": [
    "## In a New Tab (Inside JupyterLab)"
   ]
  },
  {
   "cell_type": "code",
   "execution_count": null,
   "id": "b2c326b4-b53e-42fc-856f-6e49f8cc527c",
   "metadata": {},
   "outputs": [],
   "source": [
    "# app.run_server(mode=\"jupyterlab\")"
   ]
  },
  {
   "cell_type": "markdown",
   "id": "7796f90a-dbd7-45aa-9c4c-14b3d8ea13d7",
   "metadata": {},
   "source": [
    "Go to Restart Kernel and Clear All Outputs to End the Server."
   ]
  },
  {
   "cell_type": "markdown",
   "id": "baa1c96f-9beb-45ef-82bb-59af4f2fbf5b",
   "metadata": {},
   "source": [
    "## In a New Tab"
   ]
  },
  {
   "cell_type": "code",
   "execution_count": null,
   "id": "fd69ef0d-6c4d-4167-bd55-5e29195ec08f",
   "metadata": {},
   "outputs": [],
   "source": [
    "# app.run_server()"
   ]
  },
  {
   "cell_type": "markdown",
   "id": "0014ebe6-d61f-4897-8fd0-837f8de8c835",
   "metadata": {},
   "source": [
    "Go to Restart Kernel and Clear All Outputs to End the Server."
   ]
  },
  {
   "cell_type": "code",
   "execution_count": null,
   "id": "722586b7-4e71-4c5a-a104-680c44504581",
   "metadata": {},
   "outputs": [],
   "source": []
  }
 ],
 "metadata": {
  "kernelspec": {
   "display_name": "Python 3 (ipykernel)",
   "language": "python",
   "name": "python3"
  },
  "language_info": {
   "codemirror_mode": {
    "name": "ipython",
    "version": 3
   },
   "file_extension": ".py",
   "mimetype": "text/x-python",
   "name": "python",
   "nbconvert_exporter": "python",
   "pygments_lexer": "ipython3",
   "version": "3.9.13"
  }
 },
 "nbformat": 4,
 "nbformat_minor": 5
}
