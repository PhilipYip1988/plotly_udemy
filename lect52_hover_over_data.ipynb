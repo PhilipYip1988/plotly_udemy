{
 "cells": [
  {
   "cell_type": "markdown",
   "id": "53a3de44-6591-4f7f-941e-e2801fdc186b",
   "metadata": {},
   "source": [
    "# Import Libraries"
   ]
  },
  {
   "cell_type": "code",
   "execution_count": null,
   "id": "956c2343-1a4c-4bc9-a541-bc89d5895e76",
   "metadata": {},
   "outputs": [],
   "source": [
    "import numpy as np\n",
    "import pandas as pd\n",
    "import plotly.graph_objs as go\n",
    "import plotly.offline as pyo\n",
    "from jupyter_dash import JupyterDash\n",
    "import dash\n",
    "from dash import dcc\n",
    "from dash import html\n",
    "from dash.dependencies import Input, Output\n",
    "import base64"
   ]
  },
  {
   "cell_type": "markdown",
   "id": "6725c867-1ca9-4db6-abd3-a251544cba55",
   "metadata": {},
   "source": [
    "# Import Data"
   ]
  },
  {
   "cell_type": "code",
   "execution_count": null,
   "id": "ff0da641-e08c-4dd7-8944-2a66d5564ab1",
   "metadata": {},
   "outputs": [],
   "source": [
    "df = pd.read_csv(\"./data/wheels.csv\")\n",
    "df.head()"
   ]
  },
  {
   "cell_type": "markdown",
   "id": "9e58aa59-5afd-4dc5-ae98-8f5b3c0e01ce",
   "metadata": {},
   "source": [
    "# Create App"
   ]
  },
  {
   "cell_type": "code",
   "execution_count": null,
   "id": "8a7710b4-4ffc-40bb-80d8-ee3c84018876",
   "metadata": {},
   "outputs": [],
   "source": [
    "app = JupyterDash(__name__)"
   ]
  },
  {
   "cell_type": "markdown",
   "id": "bea731c2-400c-4867-886b-0e2e8127f7c6",
   "metadata": {},
   "source": [
    "# Modify App Layout\n",
    "\n",
    "Comment out only one of the cells in this section to run the Application with the selected App layout.\n",
    "\n",
    "Highlight the contents of the cell and use the shortcut key ```Ctrl``` + ```/``` to comment/uncomment all."
   ]
  },
  {
   "cell_type": "code",
   "execution_count": null,
   "id": "d6eb5d7d-8189-4722-aa18-72dc535dd168",
   "metadata": {},
   "outputs": [],
   "source": [
    "# data1 = [go.Scatter(x=df[\"color\"], y=df[\"wheels\"], dy=1, mode=\"markers\", marker={\"size\": 15})]\n",
    "# layout1 = go.Layout(title=\"Hover Over Example\", xaxis=dict(title=\"color\"), yaxis=dict(title=\"wheels\"), hovermode=\"closest\")\n",
    "# fig1 = go.Figure(data=data1, layout=layout1)\n",
    "\n",
    "\n",
    "# app.layout = html.Div([\n",
    "#                         html.Div(dcc.Graph(id=\"wheels-plot\", figure = fig1)),\n",
    "#                         html.Div(html.Pre(id=\"hover-data\", style={\"paddingTop\": 35}),\n",
    "#                                 style={\"width\": \"30%\"}),\n",
    "#                       ]\n",
    "#                      )\n",
    "\n",
    "# @app.callback(Output(\"hover-data\", \"children\"),\n",
    "#               Input(\"wheels-plot\", \"hoverData\"))\n",
    "# def callback_image(hoverData):\n",
    "#     return json.dumps(hoverData, indent=2)"
   ]
  },
  {
   "cell_type": "code",
   "execution_count": null,
   "id": "46ee9910-819d-42fb-9de9-8a4b4268d895",
   "metadata": {},
   "outputs": [],
   "source": [
    "# data1 = [go.Scatter(x=df[\"color\"], y=df[\"wheels\"], dy=1, mode=\"markers\", marker={\"size\": 15})]\n",
    "# layout1 = go.Layout(title=\"Hover Over Example\", xaxis=dict(title=\"color\"), yaxis=dict(title=\"wheels\"), hovermode=\"closest\")\n",
    "# fig1 = go.Figure(data=data1, layout=layout1)\n",
    "\n",
    "\n",
    "# app.layout = html.Div([\n",
    "#                         html.Div(dcc.Graph(id=\"wheels-plot\", figure = fig1), style={\"width\": \"30%\", \"float\": \"left\"}),\n",
    "#                         html.Div(html.Pre(id=\"hover-data\", style={\"paddingTop\": 35}),\n",
    "#                                 style={\"width\": \"30%\"}),\n",
    "#                       ]\n",
    "#                      )\n",
    "\n",
    "# @app.callback(Output(\"hover-data\", \"children\"),\n",
    "#               Input(\"wheels-plot\", \"hoverData\"))\n",
    "# def callback_image(hoverData):\n",
    "#     if hoverData == None:\n",
    "#         color =\"None\"\n",
    "#         wheel = \"None\"\n",
    "#     else:\n",
    "#         color = hoverData[\"points\"][0][\"x\"]\n",
    "#         wheel = hoverData[\"points\"][0][\"y\"]\n",
    "    \n",
    "#     return f\"you selected the color {color} and {wheel} wheels.\""
   ]
  },
  {
   "cell_type": "code",
   "execution_count": null,
   "id": "11724f91-e736-4a90-896d-ef79fb511daf",
   "metadata": {},
   "outputs": [],
   "source": [
    "# data1 = [go.Scatter(x=df[\"color\"], y=df[\"wheels\"], dy=1, mode=\"markers\", marker={\"size\": 15})]\n",
    "# layout1 = go.Layout(title=\"Hover Over Example\", xaxis=dict(title=\"color\"), yaxis=dict(title=\"wheels\"), hovermode=\"closest\")\n",
    "# fig1 = go.Figure(data=data1, layout=layout1)\n",
    "\n",
    "\n",
    "# app.layout = html.Div([\n",
    "#                         html.Div(dcc.Graph(id=\"wheels-plot\", figure = fig1), style={\"width\": \"30%\", \"float\": \"left\"}),\n",
    "#                         html.Div(html.Pre(id=\"hover-data\", style={\"paddingTop\": 35}),\n",
    "#                                 style={\"width\": \"30%\"}),\n",
    "#                       ]\n",
    "#                      )\n",
    "\n",
    "# @app.callback(Output(\"hover-data\", \"children\"),\n",
    "#               Input(\"wheels-plot\", \"hoverData\"))\n",
    "# def callback_image(hoverData):\n",
    "#     if hoverData == None:\n",
    "#         color =\"None\"\n",
    "#         wheel = \"None\"\n",
    "#     else:\n",
    "#         color = hoverData[\"points\"][0][\"x\"]\n",
    "#         wheel = hoverData[\"points\"][0][\"y\"]\n",
    "    \n",
    "#     return f\"You selected the color {color} and {wheel} wheels.\""
   ]
  },
  {
   "cell_type": "code",
   "execution_count": null,
   "id": "d93b0b1e-33ab-43dd-b6a1-774c53b13b00",
   "metadata": {},
   "outputs": [],
   "source": [
    "data1 = [go.Scatter(x=df[\"color\"], y=df[\"wheels\"], dy=1, mode=\"markers\", marker={\"size\": 15})]\n",
    "layout1 = go.Layout(title=\"Hover Over Example\", xaxis=dict(title=\"color\"), yaxis=dict(title=\"wheels\"), hovermode=\"closest\")\n",
    "fig1 = go.Figure(data=data1, layout=layout1)\n",
    "\n",
    "\n",
    "app.layout = html.Div([\n",
    "                        html.Div(dcc.Graph(id=\"wheels-plot\", figure = fig1), style={\"width\": \"30%\", \"float\": \"left\"}),\n",
    "                        html.Div(html.Img(id=\"display-image\", height=300)),\n",
    "                        html.Div(id=\"info\", style={\"width\": \"30%\"}),\n",
    "                      ]\n",
    "                     )\n",
    "\n",
    "@app.callback(Output(\"info\", \"children\"),\n",
    "              Input(\"wheels-plot\", \"hoverData\"))\n",
    "def display_info(hoverData):\n",
    "    if hoverData == None:\n",
    "        color =\"None\"\n",
    "        wheel = \"None\"\n",
    "    else:\n",
    "        color = hoverData[\"points\"][0][\"x\"]\n",
    "        wheel = hoverData[\"points\"][0][\"y\"]\n",
    "    \n",
    "    return f\"You selected the color {color} and {wheel} wheels.\"\n",
    "\n",
    "\n",
    "def b64_image(image_filename):\n",
    "    with open(image_filename, \"rb\") as f:\n",
    "        image = f.read()\n",
    "    return \"data:image/png;base64,\" + base64.b64encode(image).decode(\"utf-8\")\n",
    "\n",
    "@app.callback(Output(\"display-image\", \"src\"),\n",
    "              Input(\"wheels-plot\", \"hoverData\"))\n",
    "def callback_image(hoverData):\n",
    "    if hoverData == None:\n",
    "        color =\"red\"\n",
    "        wheel = 1\n",
    "    else:\n",
    "        color = hoverData[\"points\"][0][\"x\"]\n",
    "        wheel = hoverData[\"points\"][0][\"y\"]\n",
    "    path = r\"./data/images/\"\n",
    "    img_path = path+df[(df[\"wheels\"] == wheel) & (df[\"color\"] == color)][\"image\"].values[0]\n",
    "    return b64_image(img_path)\n",
    "\n",
    "\n"
   ]
  },
  {
   "cell_type": "markdown",
   "id": "13d7db77-9775-428a-8227-53063da61c0a",
   "metadata": {},
   "source": [
    "# Run App \n",
    "\n",
    "## In Cell"
   ]
  },
  {
   "cell_type": "code",
   "execution_count": null,
   "id": "e217df7d-51fd-405f-9ae9-ce42f8396430",
   "metadata": {},
   "outputs": [],
   "source": [
    "app.run_server(mode=\"inline\", height=650, host='127.0.0.1', port='8050')"
   ]
  },
  {
   "cell_type": "markdown",
   "id": "0bfad716-3517-44ef-8679-eaf5077ef296",
   "metadata": {},
   "source": [
    "Go to Restart Kernel and Clear All Outputs to End the Server."
   ]
  },
  {
   "cell_type": "markdown",
   "id": "92d36c85-f897-4b00-b8f9-ee7f0ecfce3e",
   "metadata": {},
   "source": [
    "## In a New Tab (Inside JupyterLab)"
   ]
  },
  {
   "cell_type": "code",
   "execution_count": null,
   "id": "b2c326b4-b53e-42fc-856f-6e49f8cc527c",
   "metadata": {},
   "outputs": [],
   "source": [
    "# app.run_server(mode=\"jupyterlab\")"
   ]
  },
  {
   "cell_type": "markdown",
   "id": "7796f90a-dbd7-45aa-9c4c-14b3d8ea13d7",
   "metadata": {},
   "source": [
    "Go to Restart Kernel and Clear All Outputs to End the Server."
   ]
  },
  {
   "cell_type": "markdown",
   "id": "baa1c96f-9beb-45ef-82bb-59af4f2fbf5b",
   "metadata": {},
   "source": [
    "## In a New Tab"
   ]
  },
  {
   "cell_type": "code",
   "execution_count": null,
   "id": "fd69ef0d-6c4d-4167-bd55-5e29195ec08f",
   "metadata": {},
   "outputs": [],
   "source": [
    "# app.run_server()"
   ]
  },
  {
   "cell_type": "markdown",
   "id": "0014ebe6-d61f-4897-8fd0-837f8de8c835",
   "metadata": {},
   "source": [
    "Go to Restart Kernel and Clear All Outputs to End the Server."
   ]
  },
  {
   "cell_type": "code",
   "execution_count": null,
   "id": "722586b7-4e71-4c5a-a104-680c44504581",
   "metadata": {},
   "outputs": [],
   "source": []
  },
  {
   "cell_type": "code",
   "execution_count": null,
   "id": "eedb5a7d-5127-475d-a2cd-2ef7348157c1",
   "metadata": {},
   "outputs": [],
   "source": []
  }
 ],
 "metadata": {
  "kernelspec": {
   "display_name": "Python 3 (ipykernel)",
   "language": "python",
   "name": "python3"
  },
  "language_info": {
   "codemirror_mode": {
    "name": "ipython",
    "version": 3
   },
   "file_extension": ".py",
   "mimetype": "text/x-python",
   "name": "python",
   "nbconvert_exporter": "python",
   "pygments_lexer": "ipython3",
   "version": "3.9.13"
  }
 },
 "nbformat": 4,
 "nbformat_minor": 5
}
