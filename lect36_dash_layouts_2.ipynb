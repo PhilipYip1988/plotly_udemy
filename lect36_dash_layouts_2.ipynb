{
 "cells": [
  {
   "cell_type": "markdown",
   "id": "675a07b7-9406-433c-8b26-7cc9a3c038d0",
   "metadata": {},
   "source": [
    "# Install Libraries"
   ]
  },
  {
   "cell_type": "code",
   "execution_count": null,
   "id": "071d0656-7647-4126-8db4-2c6b47cf0286",
   "metadata": {},
   "outputs": [],
   "source": [
    "# conda install -c conda-forge dash\n",
    "# conda install -c conda-forge jupyter-dash"
   ]
  },
  {
   "cell_type": "markdown",
   "id": "53a3de44-6591-4f7f-941e-e2801fdc186b",
   "metadata": {},
   "source": [
    "# Import Libraries"
   ]
  },
  {
   "cell_type": "code",
   "execution_count": null,
   "id": "956c2343-1a4c-4bc9-a541-bc89d5895e76",
   "metadata": {},
   "outputs": [],
   "source": [
    "import numpy as np\n",
    "import pandas as pd\n",
    "import plotly.graph_objs as go\n",
    "import plotly.offline as pyo\n",
    "from jupyter_dash import JupyterDash\n",
    "import dash\n",
    "from dash import dcc\n",
    "from dash import html"
   ]
  },
  {
   "cell_type": "markdown",
   "id": "9e58aa59-5afd-4dc5-ae98-8f5b3c0e01ce",
   "metadata": {},
   "source": [
    "# Create App"
   ]
  },
  {
   "cell_type": "code",
   "execution_count": null,
   "id": "8a7710b4-4ffc-40bb-80d8-ee3c84018876",
   "metadata": {},
   "outputs": [],
   "source": [
    "app = JupyterDash(__name__)"
   ]
  },
  {
   "cell_type": "markdown",
   "id": "b30a7323-ee5e-4435-9aec-548a6a28499a",
   "metadata": {},
   "source": [
    "# Create Dictionary of colors"
   ]
  },
  {
   "cell_type": "markdown",
   "id": "36490242-dd05-4ef0-b949-c507b86d2502",
   "metadata": {},
   "source": [
    "Lwet's create a dictionary of colors"
   ]
  },
  {
   "cell_type": "code",
   "execution_count": null,
   "id": "daf05b4d-fc51-42b1-b28e-9dd5bcfd5938",
   "metadata": {},
   "outputs": [],
   "source": [
    "colors = dict(background=\"#111111\",\n",
    "              text=\"#7FDBFF\")"
   ]
  },
  {
   "cell_type": "markdown",
   "id": "9055caa7-c81e-41d8-9d91-6ee40a48c16e",
   "metadata": {},
   "source": [
    "# Example Plotly Graph\n",
    "Let's create a very simple plotly figure which uses this dictionary of colors:"
   ]
  },
  {
   "cell_type": "code",
   "execution_count": null,
   "id": "4e1bbf84-342e-425d-8670-1053227ab2ea",
   "metadata": {},
   "outputs": [],
   "source": [
    "trace0 = go.Bar(x=[1, 2, 3], y=[4, 1, 2], type=\"bar\", name=\"SF\")\n",
    "trace1 = go.Bar(x=[1, 2, 3], y=[2, 4, 5], type=\"bar\", name=\"NYC\")     \n",
    "data = [trace0, trace1]\n",
    "layout = go.Layout(title=\"bar graph\", xaxis=dict(title=\"x\"), yaxis=dict(title=\"y\"), \n",
    "                   plot_bgcolor=colors[\"background\"], paper_bgcolor=colors[\"background\"], font=dict(color=colors[\"text\"])\n",
    "                  )\n",
    "fig = go.Figure(data=data, layout=layout)\n",
    "pyo.iplot(fig)"
   ]
  },
  {
   "cell_type": "markdown",
   "id": "bea731c2-400c-4867-886b-0e2e8127f7c6",
   "metadata": {},
   "source": [
    "# App Layout"
   ]
  },
  {
   "cell_type": "markdown",
   "id": "b8b2e837-d9fc-4c33-aaf0-fc506df4c151",
   "metadata": {},
   "source": [
    "We can also use this dictionary of colors to change the style of the HTML elements:"
   ]
  },
  {
   "cell_type": "code",
   "execution_count": null,
   "id": "d6eb5d7d-8189-4722-aa18-72dc535dd168",
   "metadata": {},
   "outputs": [],
   "source": [
    "app.layout = html.Div(children=[\n",
    "                                html.H1(\"Hello Dash!\", \n",
    "                                        style={\n",
    "                                                \"textAlign\": \"center\", \n",
    "                                                \"color\": colors[\"text\"]\n",
    "                                              }\n",
    "                                       ),\n",
    "                                dcc.Graph(id=\"example\", figure=fig)\n",
    "                                ],\n",
    "                                style={\"backgroundColor\": colors[\"background\"]}\n",
    "                     )"
   ]
  },
  {
   "cell_type": "markdown",
   "id": "13d7db77-9775-428a-8227-53063da61c0a",
   "metadata": {},
   "source": [
    "# Run App\n",
    "\n",
    "## In Cell"
   ]
  },
  {
   "cell_type": "code",
   "execution_count": null,
   "id": "e217df7d-51fd-405f-9ae9-ce42f8396430",
   "metadata": {},
   "outputs": [],
   "source": [
    "app.run_server(mode=\"inline\", height=650, host='127.0.0.1', port='8050')"
   ]
  },
  {
   "cell_type": "markdown",
   "id": "4a250961-f367-4f68-a9fa-7e0166010584",
   "metadata": {},
   "source": [
    "Go to Restart Kernel and Clear All Outputs to End the Server."
   ]
  },
  {
   "cell_type": "markdown",
   "id": "69794bc1-80dd-4dfd-bd82-d424ac49dd28",
   "metadata": {},
   "source": [
    "## In a New Tab (Inside JupyterLab)"
   ]
  },
  {
   "cell_type": "code",
   "execution_count": null,
   "id": "f055064d-6c1f-4d08-9957-4d83f2b02c29",
   "metadata": {},
   "outputs": [],
   "source": [
    "# app.run_server(mode=\"jupyterlab\", host='127.0.0.1', port='8050')"
   ]
  },
  {
   "cell_type": "markdown",
   "id": "005c4ef7-1176-4090-896e-a968a926f16e",
   "metadata": {},
   "source": [
    "Go to Restart Kernel and Clear All Outputs to End the Server."
   ]
  },
  {
   "cell_type": "markdown",
   "id": "e51387fa-f313-4177-bc9a-b9d26b3e74d0",
   "metadata": {},
   "source": [
    "## In a New Tab"
   ]
  },
  {
   "cell_type": "code",
   "execution_count": null,
   "id": "3e28dcdc-c292-49a1-ab7c-80fe35d366cf",
   "metadata": {},
   "outputs": [],
   "source": [
    "# app.run_server(host='127.0.0.1', port='8050')"
   ]
  },
  {
   "cell_type": "markdown",
   "id": "0f7ebec7-23e4-4d50-8f25-0b05d6a56398",
   "metadata": {},
   "source": [
    "Go to Restart Kernel and Clear All Outputs to End the Server."
   ]
  }
 ],
 "metadata": {
  "kernelspec": {
   "display_name": "Python 3 (ipykernel)",
   "language": "python",
   "name": "python3"
  },
  "language_info": {
   "codemirror_mode": {
    "name": "ipython",
    "version": 3
   },
   "file_extension": ".py",
   "mimetype": "text/x-python",
   "name": "python",
   "nbconvert_exporter": "python",
   "pygments_lexer": "ipython3",
   "version": "3.9.13"
  }
 },
 "nbformat": 4,
 "nbformat_minor": 5
}
